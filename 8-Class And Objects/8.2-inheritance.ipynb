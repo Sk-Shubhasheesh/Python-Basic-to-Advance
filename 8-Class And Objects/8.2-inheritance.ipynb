{
 "cells": [
  {
   "cell_type": "markdown",
   "metadata": {},
   "source": [
    "# Inheritance In Python\n",
    "* Inheritance is a fundamental concept in Object-Oriented Programming (OOP) that allows a class to inherit attributes and methods from another class. "
   ]
  },
  {
   "cell_type": "markdown",
   "metadata": {},
   "source": [
    "#### 1. Single Inheritance:\n",
    "\n",
    "* A child class inherits from a single parent class."
   ]
  },
  {
   "cell_type": "code",
   "execution_count": 1,
   "metadata": {},
   "outputs": [],
   "source": [
    "## Inheritance (Single Inheritance)\n",
    "## Parent class\n",
    "class Car:\n",
    "    def __init__(self,windows,doors,enginetype):\n",
    "        self.windows=windows\n",
    "        self.doors=doors\n",
    "        self.enginetype=enginetype\n",
    "    \n",
    "    def drive(self):\n",
    "        print(f\"The person will drive the {self.enginetype} car \")"
   ]
  },
  {
   "cell_type": "code",
   "execution_count": 2,
   "metadata": {},
   "outputs": [
    {
     "name": "stdout",
     "output_type": "stream",
     "text": [
      "The person will drive the petrol car \n"
     ]
    }
   ],
   "source": [
    "car1=Car(4,5,\"petrol\")\n",
    "car1.drive()"
   ]
  },
  {
   "cell_type": "code",
   "execution_count": 4,
   "metadata": {},
   "outputs": [],
   "source": [
    "class Tesla(Car):\n",
    "    def __init__(self,windows,doors,enginetype,is_selfdriving):\n",
    "        super().__init__(windows,doors,enginetype)\n",
    "        self.is_selfdriving=is_selfdriving\n",
    "\n",
    "    def selfdriving(self):\n",
    "        print(f\"Tesla supports self driving : {self.is_selfdriving}\")"
   ]
  },
  {
   "cell_type": "code",
   "execution_count": 5,
   "metadata": {},
   "outputs": [
    {
     "name": "stdout",
     "output_type": "stream",
     "text": [
      "Tesla supports self driving : True\n"
     ]
    }
   ],
   "source": [
    "tesla1=Tesla(4,5,\"electric\",True)\n",
    "tesla1.selfdriving()"
   ]
  },
  {
   "cell_type": "code",
   "execution_count": 6,
   "metadata": {},
   "outputs": [
    {
     "name": "stdout",
     "output_type": "stream",
     "text": [
      "The person will drive the electric car \n"
     ]
    }
   ],
   "source": [
    "tesla1.drive()"
   ]
  },
  {
   "cell_type": "code",
   "execution_count": 7,
   "metadata": {},
   "outputs": [
    {
     "name": "stdout",
     "output_type": "stream",
     "text": [
      "Parent Name: John\n",
      "Child Name: John, Age: 25\n"
     ]
    }
   ],
   "source": [
    "# Another Example\n",
    "class Parent:\n",
    "    def __init__(self, name):\n",
    "        self.name = name\n",
    "\n",
    "    def show(self):\n",
    "        print(f\"Parent Name: {self.name}\")\n",
    "\n",
    "class Child(Parent):\n",
    "    def __init__(self, name, age):\n",
    "        super().__init__(name)\n",
    "        self.age = age\n",
    "\n",
    "    def display(self):\n",
    "        print(f\"Child Name: {self.name}, Age: {self.age}\")\n",
    "\n",
    "c = Child(\"John\", 25)\n",
    "c.show()\n",
    "c.display()\n"
   ]
  },
  {
   "cell_type": "markdown",
   "metadata": {},
   "source": [
    "#### 2. Multiple Inheritance:\n",
    "* A child class inherits from multiple parent classes."
   ]
  },
  {
   "cell_type": "code",
   "execution_count": 8,
   "metadata": {},
   "outputs": [
    {
     "name": "stdout",
     "output_type": "stream",
     "text": [
      "This is Parent1 method\n",
      "This is Parent2 method\n",
      "This is Child method\n"
     ]
    }
   ],
   "source": [
    "class Parent1:\n",
    "    def parent1_method(self):\n",
    "        print(\"This is Parent1 method\")\n",
    "\n",
    "class Parent2:\n",
    "    def parent2_method(self):\n",
    "        print(\"This is Parent2 method\")\n",
    "\n",
    "class Child(Parent1, Parent2):\n",
    "    def child_method(self):\n",
    "        print(\"This is Child method\")\n",
    "\n",
    "c = Child()\n",
    "c.parent1_method()\n",
    "c.parent2_method()\n",
    "c.child_method()\n"
   ]
  },
  {
   "cell_type": "code",
   "execution_count": 9,
   "metadata": {},
   "outputs": [
    {
     "name": "stdout",
     "output_type": "stream",
     "text": [
      "Buddy say woof\n",
      "Owner:Krish\n"
     ]
    }
   ],
   "source": [
    "### Another Example\n",
    "## Base class 1\n",
    "class Animal:\n",
    "    def __init__(self,name):\n",
    "        self.name=name\n",
    "\n",
    "    def speak(self):\n",
    "        print(\"Subclass must implement this method\")\n",
    "\n",
    "## Base class 2\n",
    "class Pet:\n",
    "    def __init__(self, owner):\n",
    "        self.owner = owner\n",
    "\n",
    "\n",
    "##Derived class\n",
    "class Dog(Animal,Pet):\n",
    "    def __init__(self,name,owner):\n",
    "        Animal.__init__(self,name)\n",
    "        Pet.__init__(self,owner)\n",
    "\n",
    "    def speak(self):\n",
    "        return f\"{self.name} say woof\"\n",
    "    \n",
    "\n",
    "## Create an object\n",
    "dog=Dog(\"Buddy\",\"Krish\")\n",
    "print(dog.speak())\n",
    "print(f\"Owner:{dog.owner}\")"
   ]
  },
  {
   "cell_type": "markdown",
   "metadata": {},
   "source": [
    "#### 3. Multilevel Inheritance:\n",
    "* A child class inherits from another child class, forming a chain of inheritance."
   ]
  },
  {
   "cell_type": "code",
   "execution_count": 10,
   "metadata": {},
   "outputs": [
    {
     "name": "stdout",
     "output_type": "stream",
     "text": [
      "This is Grandparent method\n",
      "This is Parent method\n",
      "This is Child method\n"
     ]
    }
   ],
   "source": [
    "class Grandparent:\n",
    "    def grandparent_method(self):\n",
    "        print(\"This is Grandparent method\")\n",
    "\n",
    "class Parent(Grandparent):\n",
    "    def parent_method(self):\n",
    "        print(\"This is Parent method\")\n",
    "\n",
    "class Child(Parent):\n",
    "    def child_method(self):\n",
    "        print(\"This is Child method\")\n",
    "\n",
    "c = Child()\n",
    "c.grandparent_method()\n",
    "c.parent_method()\n",
    "c.child_method()\n"
   ]
  },
  {
   "cell_type": "code",
   "execution_count": 11,
   "metadata": {},
   "outputs": [
    {
     "name": "stdout",
     "output_type": "stream",
     "text": [
      "Grandparent Name: John\n",
      "Parent Age: 50\n",
      "Child Grade: A\n"
     ]
    }
   ],
   "source": [
    "# Another Example\n",
    "class Grandparent:\n",
    "    def __init__(self, name):\n",
    "        self.name = name\n",
    "\n",
    "    def grandparent_method(self):\n",
    "        print(f\"Grandparent Name: {self.name}\")\n",
    "\n",
    "class Parent(Grandparent):\n",
    "    def __init__(self, name, age):\n",
    "        super().__init__(name)\n",
    "        self.age = age\n",
    "\n",
    "    def parent_method(self):\n",
    "        print(f\"Parent Age: {self.age}\")\n",
    "\n",
    "class Child(Parent):\n",
    "    def __init__(self, name, age, grade):\n",
    "        super().__init__(name, age)\n",
    "        self.grade = grade\n",
    "\n",
    "    def child_method(self):\n",
    "        print(f\"Child Grade: {self.grade}\")\n",
    "\n",
    "c = Child(\"John\", 50, \"A\")\n",
    "c.grandparent_method()\n",
    "c.parent_method()\n",
    "c.child_method()\n"
   ]
  },
  {
   "cell_type": "code",
   "execution_count": 12,
   "metadata": {},
   "outputs": [
    {
     "name": "stdout",
     "output_type": "stream",
     "text": [
      "Device Brand: Apple\n",
      "Phone Model: iPhone 13\n",
      "Operating System: iOS\n"
     ]
    }
   ],
   "source": [
    "# Another Example\n",
    "class Device:\n",
    "    def __init__(self, brand):\n",
    "        self.brand = brand\n",
    "\n",
    "    def device_info(self):\n",
    "        print(f\"Device Brand: {self.brand}\")\n",
    "\n",
    "class Phone(Device):\n",
    "    def __init__(self, brand, model):\n",
    "        super().__init__(brand)\n",
    "        self.model = model\n",
    "\n",
    "    def phone_info(self):\n",
    "        print(f\"Phone Model: {self.model}\")\n",
    "\n",
    "class Smartphone(Phone):\n",
    "    def __init__(self, brand, model, os):\n",
    "        super().__init__(brand, model)\n",
    "        self.os = os\n",
    "\n",
    "    def smartphone_info(self):\n",
    "        print(f\"Operating System: {self.os}\")\n",
    "\n",
    "s = Smartphone(\"Apple\", \"iPhone 13\", \"iOS\")\n",
    "s.device_info()\n",
    "s.phone_info()\n",
    "s.smartphone_info()\n"
   ]
  },
  {
   "cell_type": "markdown",
   "metadata": {},
   "source": [
    "#### 4. Hierarchical Inheritance:\n",
    "* Multiple child classes inherit from a single parent class."
   ]
  },
  {
   "cell_type": "code",
   "execution_count": 13,
   "metadata": {},
   "outputs": [
    {
     "name": "stdout",
     "output_type": "stream",
     "text": [
      "This is Parent method\n",
      "This is Child1 method\n",
      "This is Parent method\n",
      "This is Child2 method\n"
     ]
    }
   ],
   "source": [
    "class Parent:\n",
    "    def parent_method(self):\n",
    "        print(\"This is Parent method\")\n",
    "\n",
    "class Child1(Parent):\n",
    "    def child1_method(self):\n",
    "        print(\"This is Child1 method\")\n",
    "\n",
    "class Child2(Parent):\n",
    "    def child2_method(self):\n",
    "        print(\"This is Child2 method\")\n",
    "\n",
    "c1 = Child1()\n",
    "c2 = Child2()\n",
    "c1.parent_method()\n",
    "c1.child1_method()\n",
    "c2.parent_method()\n",
    "c2.child2_method()\n"
   ]
  },
  {
   "cell_type": "code",
   "execution_count": 14,
   "metadata": {},
   "outputs": [
    {
     "name": "stdout",
     "output_type": "stream",
     "text": [
      "Parent Name: John\n",
      "Child1 Age: 20\n",
      "Parent Name: Doe\n",
      "Child2 Grade: A\n"
     ]
    }
   ],
   "source": [
    "# Another example\n",
    "class Parent:\n",
    "    def __init__(self, name):\n",
    "        self.name = name\n",
    "\n",
    "    def parent_method(self):\n",
    "        print(f\"Parent Name: {self.name}\")\n",
    "\n",
    "class Child1(Parent):\n",
    "    def __init__(self, name, age):\n",
    "        super().__init__(name)\n",
    "        self.age = age\n",
    "\n",
    "    def child1_method(self):\n",
    "        print(f\"Child1 Age: {self.age}\")\n",
    "\n",
    "class Child2(Parent):\n",
    "    def __init__(self, name, grade):\n",
    "        super().__init__(name)\n",
    "        self.grade = grade\n",
    "\n",
    "    def child2_method(self):\n",
    "        print(f\"Child2 Grade: {self.grade}\")\n",
    "\n",
    "c1 = Child1(\"John\", 20)\n",
    "c2 = Child2(\"Doe\", \"A\")\n",
    "c1.parent_method()\n",
    "c1.child1_method()\n",
    "c2.parent_method()\n",
    "c2.child2_method()\n"
   ]
  },
  {
   "cell_type": "code",
   "execution_count": 15,
   "metadata": {},
   "outputs": [
    {
     "name": "stdout",
     "output_type": "stream",
     "text": [
      "Vehicle Make: Toyota\n",
      "Car Model: Corolla\n",
      "Vehicle Make: Honda\n",
      "Bike Type: Sport\n"
     ]
    }
   ],
   "source": [
    "#Another example\n",
    "class Vehicle:\n",
    "    def __init__(self, make):\n",
    "        self.make = make\n",
    "\n",
    "    def vehicle_info(self):\n",
    "        print(f\"Vehicle Make: {self.make}\")\n",
    "\n",
    "class Car(Vehicle):\n",
    "    def __init__(self, make, model):\n",
    "        super().__init__(make)\n",
    "        self.model = model\n",
    "\n",
    "    def car_info(self):\n",
    "        print(f\"Car Model: {self.model}\")\n",
    "\n",
    "class Bike(Vehicle):\n",
    "    def __init__(self, make, type_bike):\n",
    "        super().__init__(make)\n",
    "        self.type_bike = type_bike\n",
    "\n",
    "    def bike_info(self):\n",
    "        print(f\"Bike Type: {self.type_bike}\")\n",
    "\n",
    "c = Car(\"Toyota\", \"Corolla\")\n",
    "b = Bike(\"Honda\", \"Sport\")\n",
    "c.vehicle_info()\n",
    "c.car_info()\n",
    "b.vehicle_info()\n",
    "b.bike_info()\n"
   ]
  },
  {
   "cell_type": "markdown",
   "metadata": {},
   "source": [
    "#### 5.Hybrid Inheritance:\n",
    "* A combination of two or more types of inheritance."
   ]
  },
  {
   "cell_type": "code",
   "execution_count": 16,
   "metadata": {},
   "outputs": [
    {
     "name": "stdout",
     "output_type": "stream",
     "text": [
      "This is Parent method\n",
      "This is Child1 method\n",
      "This is Child2 method\n",
      "This is GrandChild method\n"
     ]
    }
   ],
   "source": [
    "class Parent:\n",
    "    def parent_method(self):\n",
    "        print(\"This is Parent method\")\n",
    "\n",
    "class Child1(Parent):\n",
    "    def child1_method(self):\n",
    "        print(\"This is Child1 method\")\n",
    "\n",
    "class Child2(Parent):\n",
    "    def child2_method(self):\n",
    "        print(\"This is Child2 method\")\n",
    "\n",
    "class GrandChild(Child1, Child2):\n",
    "    def grandchild_method(self):\n",
    "        print(\"This is GrandChild method\")\n",
    "\n",
    "gc = GrandChild()\n",
    "gc.parent_method()\n",
    "gc.child1_method()\n",
    "gc.child2_method()\n",
    "gc.grandchild_method()\n"
   ]
  },
  {
   "cell_type": "code",
   "execution_count": 22,
   "metadata": {},
   "outputs": [
    {
     "name": "stdout",
     "output_type": "stream",
     "text": [
      "Engine Power: 200HP\n",
      "Body Type: Sedan\n",
      "Vehicle Make: Toyota\n"
     ]
    }
   ],
   "source": [
    "class Engine:\n",
    "    def __init__(self, power):\n",
    "        self.power = power\n",
    "\n",
    "    def engine_info(self):\n",
    "        print(f\"Engine Power: {self.power}\")\n",
    "\n",
    "class Body:\n",
    "    def __init__(self, type_body):\n",
    "        self.type_body = type_body\n",
    "\n",
    "    def body_info(self):\n",
    "        print(f\"Body Type: {self.type_body}\")\n",
    "\n",
    "class Vehicle(Engine, Body):\n",
    "    def __init__(self, power, type_body, make):\n",
    "        Engine.__init__(self, power)\n",
    "        Body.__init__(self, type_body)\n",
    "        self.make = make\n",
    "\n",
    "    def vehicle_info(self):\n",
    "        print(f\"Vehicle Make: {self.make}\")\n",
    "\n",
    "v = Vehicle(\"200HP\", \"Sedan\", \"Toyota\")\n",
    "v.engine_info()\n",
    "v.body_info()\n",
    "v.vehicle_info()\n"
   ]
  }
 ],
 "metadata": {
  "kernelspec": {
   "display_name": "Python 3",
   "language": "python",
   "name": "python3"
  },
  "language_info": {
   "codemirror_mode": {
    "name": "ipython",
    "version": 3
   },
   "file_extension": ".py",
   "mimetype": "text/x-python",
   "name": "python",
   "nbconvert_exporter": "python",
   "pygments_lexer": "ipython3",
   "version": "3.12.0"
  }
 },
 "nbformat": 4,
 "nbformat_minor": 2
}
