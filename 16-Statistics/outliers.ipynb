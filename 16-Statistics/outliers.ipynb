{
 "cells": [
  {
   "cell_type": "code",
   "execution_count": 8,
   "id": "bd70b712",
   "metadata": {},
   "outputs": [
    {
     "data": {
      "text/plain": [
       "array([  2,   3,   4,   5,   6,   7,   8,   9,  12,  13,  16,  17,  23,\n",
       "        25,  27,  34,  37, 201])"
      ]
     },
     "execution_count": 8,
     "metadata": {},
     "output_type": "execute_result"
    }
   ],
   "source": [
    "import numpy as np\n",
    "arr = np.array([2,3,4,5,6,7,8,9,12,13,16,17,23,25,27,34,37,201])\n",
    "arr"
   ]
  },
  {
   "cell_type": "code",
   "execution_count": 9,
   "id": "83fe92ac",
   "metadata": {},
   "outputs": [
    {
     "data": {
      "text/plain": [
       "18.25"
      ]
     },
     "execution_count": 9,
     "metadata": {},
     "output_type": "execute_result"
    }
   ],
   "source": [
    "# Remove Outlier \n",
    "Q1 = np.percentile(arr, 25)\n",
    "Q3 = np.percentile(arr, 75)\n",
    "IQR = Q3-Q1\n",
    "IQR"
   ]
  },
  {
   "cell_type": "code",
   "execution_count": 13,
   "id": "1eb04907",
   "metadata": {},
   "outputs": [],
   "source": [
    "# finding upper fence & lower fence\n",
    "UF = Q3 + (1.5*IQR)\n",
    "LF = Q1 - (1.5*IQR)"
   ]
  },
  {
   "cell_type": "code",
   "execution_count": 15,
   "id": "a32f4a75",
   "metadata": {},
   "outputs": [
    {
     "name": "stdout",
     "output_type": "stream",
     "text": [
      "[ 2  3  4  5  6  7  8  9 12 13 16 17 23 25 27 34 37]\n"
     ]
    }
   ],
   "source": [
    "# remove the value which is outside from Upper& lower fence value\n",
    "\n",
    "l = [] \n",
    "for i in arr:\n",
    "    if i>= LF and i <= UF:\n",
    "        l.append(i)\n",
    "\n",
    "# print(l)\n",
    "\n",
    "# convert list to array\n",
    "arr2 = np.array(l)\n",
    "print(arr2)"
   ]
  },
  {
   "cell_type": "code",
   "execution_count": 17,
   "id": "15a6ac35",
   "metadata": {},
   "outputs": [
    {
     "data": {
      "text/plain": [
       "<Axes: >"
      ]
     },
     "execution_count": 17,
     "metadata": {},
     "output_type": "execute_result"
    },
    {
     "data": {
      "image/png": "[encoded data removed]",
      "text/plain": [
       "<Figure size 640x480 with 1 Axes>"
      ]
     },
     "metadata": {},
     "output_type": "display_data"
    }
   ],
   "source": [
    "# create box plot\n",
    "import seaborn as sns\n",
    "# sns.boxplot(x=arr)\n",
    "sns.boxplot(x=arr2)"
   ]
  }
 ],
 "metadata": {
  "kernelspec": {
   "display_name": "Python 3",
   "language": "python",
   "name": "python3"
  },
  "language_info": {
   "codemirror_mode": {
    "name": "ipython",
    "version": 3
   },
   "file_extension": ".py",
   "mimetype": "text/x-python",
   "name": "python",
   "nbconvert_exporter": "python",
   "pygments_lexer": "ipython3",
   "version": "3.12.0"
  }
 },
 "nbformat": 4,
 "nbformat_minor": 5
}
