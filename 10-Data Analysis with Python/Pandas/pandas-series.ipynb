{
 "cells": [
  {
   "cell_type": "markdown",
   "metadata": {},
   "source": [
    "# What is Pandas\n",
    "Pandas is a fast, powerful, flexible and easy to use open source data analysis and manipulation tool, built on top of the Python programming language.\n",
    "\n",
    "https://pandas.pydata.org/about/index.html"
   ]
  },
  {
   "cell_type": "markdown",
   "metadata": {},
   "source": [
    "## Pandas Series\n",
    "A Pandas Series is like a column in a table. It is a 1-D array holding data of any type."
   ]
  },
  {
   "cell_type": "markdown",
   "metadata": {},
   "source": [
    "#### Importing Pandas"
   ]
  },
  {
   "cell_type": "code",
   "execution_count": 3,
   "metadata": {},
   "outputs": [],
   "source": [
    "import numpy as np\n",
    "import pandas as pd"
   ]
  },
  {
   "cell_type": "markdown",
   "metadata": {},
   "source": [
    "#### Series from lists"
   ]
  },
  {
   "cell_type": "code",
   "execution_count": 2,
   "metadata": {},
   "outputs": [
    {
     "data": {
      "text/plain": [
       "0       India\n",
       "1    Pakistan\n",
       "2         USA\n",
       "3       Nepal\n",
       "4    Srilanka\n",
       "dtype: object"
      ]
     },
     "execution_count": 2,
     "metadata": {},
     "output_type": "execute_result"
    }
   ],
   "source": [
    "# string\n",
    "country = ['India','Pakistan','USA','Nepal','Srilanka']\n",
    "pd.Series(country)"
   ]
  },
  {
   "cell_type": "code",
   "execution_count": 47,
   "metadata": {},
   "outputs": [
    {
     "data": {
      "text/plain": [
       "0     13\n",
       "1     24\n",
       "2     56\n",
       "3     78\n",
       "4    100\n",
       "dtype: int64"
      ]
     },
     "execution_count": 47,
     "metadata": {},
     "output_type": "execute_result"
    }
   ],
   "source": [
    "# integers\n",
    "runs = [13,24,56,78,100]\n",
    "runs_ser = pd.Series(runs)\n",
    "runs_ser"
   ]
  },
  {
   "cell_type": "code",
   "execution_count": 6,
   "metadata": {},
   "outputs": [
    {
     "data": {
      "text/plain": [
       "maths       67\n",
       "english     57\n",
       "science     89\n",
       "hindi      100\n",
       "dtype: int64"
      ]
     },
     "execution_count": 6,
     "metadata": {},
     "output_type": "execute_result"
    }
   ],
   "source": [
    "# custom index\n",
    "marks = [67,57,89,100]\n",
    "subjects = ['maths','english','science','hindi']\n",
    "\n",
    "pd.Series(marks, index=subjects)"
   ]
  },
  {
   "cell_type": "code",
   "execution_count": 7,
   "metadata": {},
   "outputs": [
    {
     "data": {
      "text/plain": [
       "maths       67\n",
       "english     57\n",
       "science     89\n",
       "hindi      100\n",
       "Name: Nitish ke marks, dtype: int64"
      ]
     },
     "execution_count": 7,
     "metadata": {},
     "output_type": "execute_result"
    }
   ],
   "source": [
    "# setting a name\n",
    "marks = pd.Series(marks,index=subjects,name='Nitish ke marks')\n",
    "marks"
   ]
  },
  {
   "cell_type": "markdown",
   "metadata": {},
   "source": [
    "#### Series from dict"
   ]
  },
  {
   "cell_type": "code",
   "execution_count": 35,
   "metadata": {},
   "outputs": [
    {
     "data": {
      "text/plain": [
       "maths       67\n",
       "english     57\n",
       "science     89\n",
       "hindi      100\n",
       "Name: Shubhasheesh Marks, dtype: int64"
      ]
     },
     "execution_count": 35,
     "metadata": {},
     "output_type": "execute_result"
    }
   ],
   "source": [
    "# in dic- keys will be indexes autometically \n",
    "marks = {\n",
    "    'maths':67,\n",
    "    'english':57,\n",
    "    'science':89,\n",
    "    'hindi':100\n",
    "}\n",
    "\n",
    "marks_series = pd.Series(marks, name='Shubhasheesh Marks')\n",
    "marks_series"
   ]
  },
  {
   "cell_type": "markdown",
   "metadata": {},
   "source": [
    "#### Series Attributes"
   ]
  },
  {
   "cell_type": "code",
   "execution_count": 10,
   "metadata": {},
   "outputs": [
    {
     "data": {
      "text/plain": [
       "4"
      ]
     },
     "execution_count": 10,
     "metadata": {},
     "output_type": "execute_result"
    }
   ],
   "source": [
    "# size\n",
    "marks_series.size"
   ]
  },
  {
   "cell_type": "code",
   "execution_count": 11,
   "metadata": {},
   "outputs": [
    {
     "data": {
      "text/plain": [
       "dtype('int64')"
      ]
     },
     "execution_count": 11,
     "metadata": {},
     "output_type": "execute_result"
    }
   ],
   "source": [
    "# dtype\n",
    "marks_series.dtype"
   ]
  },
  {
   "cell_type": "code",
   "execution_count": 12,
   "metadata": {},
   "outputs": [
    {
     "data": {
      "text/plain": [
       "'Shubhasheesh Marks'"
      ]
     },
     "execution_count": 12,
     "metadata": {},
     "output_type": "execute_result"
    }
   ],
   "source": [
    "# name\n",
    "marks_series.name"
   ]
  },
  {
   "cell_type": "code",
   "execution_count": 13,
   "metadata": {},
   "outputs": [
    {
     "data": {
      "text/plain": [
       "True"
      ]
     },
     "execution_count": 13,
     "metadata": {},
     "output_type": "execute_result"
    }
   ],
   "source": [
    "# is_unique\n",
    "marks_series.is_unique"
   ]
  },
  {
   "cell_type": "code",
   "execution_count": 14,
   "metadata": {},
   "outputs": [
    {
     "data": {
      "text/plain": [
       "False"
      ]
     },
     "execution_count": 14,
     "metadata": {},
     "output_type": "execute_result"
    }
   ],
   "source": [
    "pd.Series([1,1,2,3,4,2,2]).is_unique"
   ]
  },
  {
   "cell_type": "code",
   "execution_count": 15,
   "metadata": {},
   "outputs": [
    {
     "data": {
      "text/plain": [
       "Index(['maths', 'english', 'science', 'hindi'], dtype='object')"
      ]
     },
     "execution_count": 15,
     "metadata": {},
     "output_type": "execute_result"
    }
   ],
   "source": [
    "# index\n",
    "marks_series.index"
   ]
  },
  {
   "cell_type": "code",
   "execution_count": 18,
   "metadata": {},
   "outputs": [
    {
     "data": {
      "text/plain": [
       "RangeIndex(start=0, stop=5, step=1)"
      ]
     },
     "execution_count": 18,
     "metadata": {},
     "output_type": "execute_result"
    }
   ],
   "source": [
    "runs_ser.index"
   ]
  },
  {
   "cell_type": "code",
   "execution_count": 19,
   "metadata": {},
   "outputs": [
    {
     "data": {
      "text/plain": [
       "array([ 67,  57,  89, 100], dtype=int64)"
      ]
     },
     "execution_count": 19,
     "metadata": {},
     "output_type": "execute_result"
    }
   ],
   "source": [
    "# values\n",
    "marks_series.values"
   ]
  },
  {
   "cell_type": "markdown",
   "metadata": {},
   "source": [
    "#### Series using read_csv"
   ]
  },
  {
   "cell_type": "code",
   "execution_count": 4,
   "metadata": {},
   "outputs": [
    {
     "data": {
      "text/plain": [
       "0       48\n",
       "1       57\n",
       "2       40\n",
       "3       43\n",
       "4       44\n",
       "      ... \n",
       "360    231\n",
       "361    226\n",
       "362    155\n",
       "363    144\n",
       "364    172\n",
       "Name: Subscribers gained, Length: 365, dtype: int64"
      ]
     },
     "execution_count": 4,
     "metadata": {},
     "output_type": "execute_result"
    }
   ],
   "source": [
    "# with one col\n",
    "subs = pd.read_csv('subs.csv')\n",
    "subs= subs.squeeze('columns') # convert dataframe to series by default read_csv gives the dataframe\n",
    "subs\n"
   ]
  },
  {
   "cell_type": "code",
   "execution_count": 5,
   "metadata": {},
   "outputs": [
    {
     "data": {
      "text/plain": [
       "match_no\n",
       "1       1\n",
       "2      23\n",
       "3      13\n",
       "4      12\n",
       "5       1\n",
       "       ..\n",
       "211     0\n",
       "212    20\n",
       "213    73\n",
       "214    25\n",
       "215     7\n",
       "Name: runs, Length: 215, dtype: int64"
      ]
     },
     "execution_count": 5,
     "metadata": {},
     "output_type": "execute_result"
    }
   ],
   "source": [
    "# with 2 cols\n",
    "vk = pd.read_csv('kohli_ipl.csv',index_col='match_no')\n",
    "vk = vk.squeeze('columns')\n",
    "vk"
   ]
  },
  {
   "cell_type": "code",
   "execution_count": 6,
   "metadata": {},
   "outputs": [
    {
     "data": {
      "text/plain": [
       "movie\n",
       "Uri: The Surgical Strike                   Vicky Kaushal\n",
       "Battalion 609                                Vicky Ahuja\n",
       "The Accidental Prime Minister (film)         Anupam Kher\n",
       "Why Cheat India                            Emraan Hashmi\n",
       "Evening Shadows                         Mona Ambegaonkar\n",
       "                                              ...       \n",
       "Hum Tumhare Hain Sanam                    Shah Rukh Khan\n",
       "Aankhen (2002 film)                     Amitabh Bachchan\n",
       "Saathiya (film)                             Vivek Oberoi\n",
       "Company (film)                                Ajay Devgn\n",
       "Awara Paagal Deewana                        Akshay Kumar\n",
       "Name: lead, Length: 1500, dtype: object"
      ]
     },
     "execution_count": 6,
     "metadata": {},
     "output_type": "execute_result"
    }
   ],
   "source": [
    "movies = pd.read_csv('bollywood.csv',index_col='movie')\n",
    "movies = movies.squeeze('columns')\n",
    "movies"
   ]
  },
  {
   "cell_type": "markdown",
   "metadata": {},
   "source": [
    "#### Series methods"
   ]
  },
  {
   "cell_type": "code",
   "execution_count": 35,
   "metadata": {},
   "outputs": [
    {
     "data": {
      "text/plain": [
       "0    48\n",
       "1    57\n",
       "2    40\n",
       "3    43\n",
       "4    44\n",
       "Name: Subscribers gained, dtype: int64"
      ]
     },
     "execution_count": 35,
     "metadata": {},
     "output_type": "execute_result"
    }
   ],
   "source": [
    "# head and tail\n",
    "subs.head()"
   ]
  },
  {
   "cell_type": "code",
   "execution_count": 36,
   "metadata": {},
   "outputs": [
    {
     "data": {
      "text/plain": [
       "match_no\n",
       "1     1\n",
       "2    23\n",
       "3    13\n",
       "Name: runs, dtype: int64"
      ]
     },
     "execution_count": 36,
     "metadata": {},
     "output_type": "execute_result"
    }
   ],
   "source": [
    "vk.head(3)"
   ]
  },
  {
   "cell_type": "code",
   "execution_count": 37,
   "metadata": {},
   "outputs": [
    {
     "data": {
      "text/plain": [
       "match_no\n",
       "206     0\n",
       "207     0\n",
       "208     9\n",
       "209    58\n",
       "210    30\n",
       "211     0\n",
       "212    20\n",
       "213    73\n",
       "214    25\n",
       "215     7\n",
       "Name: runs, dtype: int64"
      ]
     },
     "execution_count": 37,
     "metadata": {},
     "output_type": "execute_result"
    }
   ],
   "source": [
    "vk.tail(10)"
   ]
  },
  {
   "cell_type": "code",
   "execution_count": 50,
   "metadata": {},
   "outputs": [
    {
     "data": {
      "text/plain": [
       "movie\n",
       "Welcome Back (film)         Anil Kapoor\n",
       "Adharm (2006 film)            Rahul Dev\n",
       "Aurangzeb (film)           Arjun Kapoor\n",
       "Bhool Bhulaiyaa            Akshay Kumar\n",
       "Meeruthiya Gangsters    Jaideep Ahlawat\n",
       "Name: lead, dtype: object"
      ]
     },
     "execution_count": 50,
     "metadata": {},
     "output_type": "execute_result"
    }
   ],
   "source": [
    "# sample - select randomly\n",
    "movies.sample(5)"
   ]
  },
  {
   "cell_type": "code",
   "execution_count": 40,
   "metadata": {},
   "outputs": [
    {
     "data": {
      "text/plain": [
       "lead\n",
       "Akshay Kumar        48\n",
       "Amitabh Bachchan    45\n",
       "Ajay Devgn          38\n",
       "Salman Khan         31\n",
       "Sanjay Dutt         26\n",
       "                    ..\n",
       "Diganth              1\n",
       "Parveen Kaur         1\n",
       "Seema Azmi           1\n",
       "Akanksha Puri        1\n",
       "Edwin Fernandes      1\n",
       "Name: count, Length: 566, dtype: int64"
      ]
     },
     "execution_count": 40,
     "metadata": {},
     "output_type": "execute_result"
    }
   ],
   "source": [
    "# value_counts -> movies\n",
    "movies.value_counts()"
   ]
  },
  {
   "cell_type": "code",
   "execution_count": 46,
   "metadata": {},
   "outputs": [
    {
     "data": {
      "text/plain": [
       "113"
      ]
     },
     "execution_count": 46,
     "metadata": {},
     "output_type": "execute_result"
    }
   ],
   "source": [
    "# sort_values -> inplace\n",
    "vk.sort_values() # acending order sort\n",
    "vk.sort_values(ascending=False) # decending order by default its value is True\n",
    "\n",
    "vk.sort_values(ascending=False).head(1).values\n",
    "vk.sort_values(ascending=False).head(1).values[0]"
   ]
  },
  {
   "cell_type": "code",
   "execution_count": 48,
   "metadata": {},
   "outputs": [],
   "source": [
    "# sort_index -> inplace -> movies\n",
    "movies.sort_index(ascending=False,inplace=True)"
   ]
  },
  {
   "cell_type": "code",
   "execution_count": 49,
   "metadata": {},
   "outputs": [
    {
     "data": {
      "text/plain": [
       "movie\n",
       "Zor Lagaa Ke...Haiya!            Meghan Jadhav\n",
       "Zokkomon                       Darsheel Safary\n",
       "Zindagi Tere Naam           Mithun Chakraborty\n",
       "Zindagi Na Milegi Dobara        Hrithik Roshan\n",
       "Zindagi 50-50                      Veena Malik\n",
       "                                   ...        \n",
       "2 States (2014 film)              Arjun Kapoor\n",
       "1971 (2007 film)                Manoj Bajpayee\n",
       "1920: The Evil Returns             Vicky Ahuja\n",
       "1920: London                     Sharman Joshi\n",
       "1920 (film)                   Rajniesh Duggall\n",
       "Name: lead, Length: 1500, dtype: object"
      ]
     },
     "execution_count": 49,
     "metadata": {},
     "output_type": "execute_result"
    }
   ],
   "source": [
    "movies"
   ]
  },
  {
   "cell_type": "markdown",
   "metadata": {},
   "source": [
    "#### Series Maths Methods"
   ]
  },
  {
   "cell_type": "code",
   "execution_count": 54,
   "metadata": {},
   "outputs": [
    {
     "data": {
      "text/plain": [
       "215"
      ]
     },
     "execution_count": 54,
     "metadata": {},
     "output_type": "execute_result"
    }
   ],
   "source": [
    "# count - its give the count without including missing value but size will include it\n",
    "vk.count()"
   ]
  },
  {
   "cell_type": "code",
   "execution_count": 9,
   "metadata": {},
   "outputs": [
    {
     "name": "stdout",
     "output_type": "stream",
     "text": [
      "49510\n",
      "0\n"
     ]
    }
   ],
   "source": [
    "# sum -> product => \n",
    "print(subs.sum())\n",
    "print(subs.product())"
   ]
  },
  {
   "cell_type": "code",
   "execution_count": 10,
   "metadata": {},
   "outputs": [
    {
     "name": "stdout",
     "output_type": "stream",
     "text": [
      "135.64383561643837\n",
      "24.0\n",
      "0    Akshay Kumar\n",
      "Name: lead, dtype: object\n",
      "62.6750230372527\n",
      "688.0024777222343\n"
     ]
    }
   ],
   "source": [
    "# mean -> median -> mode -> std -> var\n",
    "print(subs.mean())\n",
    "print(vk.median())\n",
    "print(movies.mode()) # gives more movie maked by actor\n",
    "print(subs.std())\n",
    "print(vk.var())"
   ]
  },
  {
   "cell_type": "code",
   "execution_count": 12,
   "metadata": {},
   "outputs": [
    {
     "name": "stdout",
     "output_type": "stream",
     "text": [
      "396\n",
      "33\n"
     ]
    }
   ],
   "source": [
    "# min/max\n",
    "print(subs.max())\n",
    "print(subs.min())"
   ]
  },
  {
   "cell_type": "code",
   "execution_count": 13,
   "metadata": {},
   "outputs": [
    {
     "data": {
      "text/plain": [
       "count    365.000000\n",
       "mean     135.643836\n",
       "std       62.675023\n",
       "min       33.000000\n",
       "25%       88.000000\n",
       "50%      123.000000\n",
       "75%      177.000000\n",
       "max      396.000000\n",
       "Name: Subscribers gained, dtype: float64"
      ]
     },
     "execution_count": 13,
     "metadata": {},
     "output_type": "execute_result"
    }
   ],
   "source": [
    "# describe\n",
    "subs.describe()"
   ]
  },
  {
   "cell_type": "code",
   "execution_count": 14,
   "metadata": {},
   "outputs": [
    {
     "data": {
      "text/plain": [
       "count    215.000000\n",
       "mean      30.855814\n",
       "std       26.229801\n",
       "min        0.000000\n",
       "25%        9.000000\n",
       "50%       24.000000\n",
       "75%       48.000000\n",
       "max      113.000000\n",
       "Name: runs, dtype: float64"
      ]
     },
     "execution_count": 14,
     "metadata": {},
     "output_type": "execute_result"
    }
   ],
   "source": [
    "vk.describe()"
   ]
  },
  {
   "cell_type": "markdown",
   "metadata": {},
   "source": [
    "#### Series Indexing"
   ]
  },
  {
   "cell_type": "code",
   "execution_count": 15,
   "metadata": {},
   "outputs": [
    {
     "data": {
      "text/plain": [
       "0    12\n",
       "1    13\n",
       "2    14\n",
       "3    35\n",
       "4    46\n",
       "5    57\n",
       "6    58\n",
       "7    79\n",
       "8     9\n",
       "dtype: int64"
      ]
     },
     "execution_count": 15,
     "metadata": {},
     "output_type": "execute_result"
    }
   ],
   "source": [
    "# integer indexing\n",
    "x = pd.Series([12,13,14,35,46,57,58,79,9])\n",
    "x"
   ]
  },
  {
   "cell_type": "code",
   "execution_count": 16,
   "metadata": {},
   "outputs": [
    {
     "ename": "KeyError",
     "evalue": "-1",
     "output_type": "error",
     "traceback": [
      "\u001b[1;31m---------------------------------------------------------------------------\u001b[0m",
      "\u001b[1;31mValueError\u001b[0m                                Traceback (most recent call last)",
      "File \u001b[1;32m~\\AppData\\Roaming\\Python\\Python312\\site-packages\\pandas\\core\\indexes\\range.py:413\u001b[0m, in \u001b[0;36mRangeIndex.get_loc\u001b[1;34m(self, key)\u001b[0m\n\u001b[0;32m    412\u001b[0m \u001b[38;5;28;01mtry\u001b[39;00m:\n\u001b[1;32m--> 413\u001b[0m     \u001b[38;5;28;01mreturn\u001b[39;00m \u001b[38;5;28;43mself\u001b[39;49m\u001b[38;5;241;43m.\u001b[39;49m\u001b[43m_range\u001b[49m\u001b[38;5;241;43m.\u001b[39;49m\u001b[43mindex\u001b[49m\u001b[43m(\u001b[49m\u001b[43mnew_key\u001b[49m\u001b[43m)\u001b[49m\n\u001b[0;32m    414\u001b[0m \u001b[38;5;28;01mexcept\u001b[39;00m \u001b[38;5;167;01mValueError\u001b[39;00m \u001b[38;5;28;01mas\u001b[39;00m err:\n",
      "\u001b[1;31mValueError\u001b[0m: -1 is not in range",
      "\nThe above exception was the direct cause of the following exception:\n",
      "\u001b[1;31mKeyError\u001b[0m                                  Traceback (most recent call last)",
      "Cell \u001b[1;32mIn[16], line 2\u001b[0m\n\u001b[0;32m      1\u001b[0m \u001b[38;5;66;03m# negative indexing - pandas series is working only positive index its not working on negative index\u001b[39;00m\n\u001b[1;32m----> 2\u001b[0m \u001b[43mx\u001b[49m\u001b[43m[\u001b[49m\u001b[38;5;241;43m-\u001b[39;49m\u001b[38;5;241;43m1\u001b[39;49m\u001b[43m]\u001b[49m\n",
      "File \u001b[1;32m~\\AppData\\Roaming\\Python\\Python312\\site-packages\\pandas\\core\\series.py:1121\u001b[0m, in \u001b[0;36mSeries.__getitem__\u001b[1;34m(self, key)\u001b[0m\n\u001b[0;32m   1118\u001b[0m     \u001b[38;5;28;01mreturn\u001b[39;00m \u001b[38;5;28mself\u001b[39m\u001b[38;5;241m.\u001b[39m_values[key]\n\u001b[0;32m   1120\u001b[0m \u001b[38;5;28;01melif\u001b[39;00m key_is_scalar:\n\u001b[1;32m-> 1121\u001b[0m     \u001b[38;5;28;01mreturn\u001b[39;00m \u001b[38;5;28;43mself\u001b[39;49m\u001b[38;5;241;43m.\u001b[39;49m\u001b[43m_get_value\u001b[49m\u001b[43m(\u001b[49m\u001b[43mkey\u001b[49m\u001b[43m)\u001b[49m\n\u001b[0;32m   1123\u001b[0m \u001b[38;5;66;03m# Convert generator to list before going through hashable part\u001b[39;00m\n\u001b[0;32m   1124\u001b[0m \u001b[38;5;66;03m# (We will iterate through the generator there to check for slices)\u001b[39;00m\n\u001b[0;32m   1125\u001b[0m \u001b[38;5;28;01mif\u001b[39;00m is_iterator(key):\n",
      "File \u001b[1;32m~\\AppData\\Roaming\\Python\\Python312\\site-packages\\pandas\\core\\series.py:1237\u001b[0m, in \u001b[0;36mSeries._get_value\u001b[1;34m(self, label, takeable)\u001b[0m\n\u001b[0;32m   1234\u001b[0m     \u001b[38;5;28;01mreturn\u001b[39;00m \u001b[38;5;28mself\u001b[39m\u001b[38;5;241m.\u001b[39m_values[label]\n\u001b[0;32m   1236\u001b[0m \u001b[38;5;66;03m# Similar to Index.get_value, but we do not fall back to positional\u001b[39;00m\n\u001b[1;32m-> 1237\u001b[0m loc \u001b[38;5;241m=\u001b[39m \u001b[38;5;28;43mself\u001b[39;49m\u001b[38;5;241;43m.\u001b[39;49m\u001b[43mindex\u001b[49m\u001b[38;5;241;43m.\u001b[39;49m\u001b[43mget_loc\u001b[49m\u001b[43m(\u001b[49m\u001b[43mlabel\u001b[49m\u001b[43m)\u001b[49m\n\u001b[0;32m   1239\u001b[0m \u001b[38;5;28;01mif\u001b[39;00m is_integer(loc):\n\u001b[0;32m   1240\u001b[0m     \u001b[38;5;28;01mreturn\u001b[39;00m \u001b[38;5;28mself\u001b[39m\u001b[38;5;241m.\u001b[39m_values[loc]\n",
      "File \u001b[1;32m~\\AppData\\Roaming\\Python\\Python312\\site-packages\\pandas\\core\\indexes\\range.py:415\u001b[0m, in \u001b[0;36mRangeIndex.get_loc\u001b[1;34m(self, key)\u001b[0m\n\u001b[0;32m    413\u001b[0m         \u001b[38;5;28;01mreturn\u001b[39;00m \u001b[38;5;28mself\u001b[39m\u001b[38;5;241m.\u001b[39m_range\u001b[38;5;241m.\u001b[39mindex(new_key)\n\u001b[0;32m    414\u001b[0m     \u001b[38;5;28;01mexcept\u001b[39;00m \u001b[38;5;167;01mValueError\u001b[39;00m \u001b[38;5;28;01mas\u001b[39;00m err:\n\u001b[1;32m--> 415\u001b[0m         \u001b[38;5;28;01mraise\u001b[39;00m \u001b[38;5;167;01mKeyError\u001b[39;00m(key) \u001b[38;5;28;01mfrom\u001b[39;00m \u001b[38;5;21;01merr\u001b[39;00m\n\u001b[0;32m    416\u001b[0m \u001b[38;5;28;01mif\u001b[39;00m \u001b[38;5;28misinstance\u001b[39m(key, Hashable):\n\u001b[0;32m    417\u001b[0m     \u001b[38;5;28;01mraise\u001b[39;00m \u001b[38;5;167;01mKeyError\u001b[39;00m(key)\n",
      "\u001b[1;31mKeyError\u001b[0m: -1"
     ]
    }
   ],
   "source": [
    "# negative indexing - pandas series is working only positive index its not working on negative index\n",
    "x[-1]"
   ]
  },
  {
   "cell_type": "code",
   "execution_count": 24,
   "metadata": {},
   "outputs": [
    {
     "name": "stdout",
     "output_type": "stream",
     "text": [
      "Vicky Kaushal\n",
      "Vicky Kaushal\n"
     ]
    },
    {
     "name": "stderr",
     "output_type": "stream",
     "text": [
      "C:\\Users\\PERSONAL\\AppData\\Local\\Temp\\ipykernel_9596\\3865661768.py:2: FutureWarning: Series.__getitem__ treating keys as positions is deprecated. In a future version, integer keys will always be treated as labels (consistent with DataFrame behavior). To access a value by position, use `ser.iloc[pos]`\n",
      "  print(movies[0])\n"
     ]
    }
   ],
   "source": [
    "print(movies['Uri: The Surgical Strike'])\n",
    "print(movies[0])"
   ]
  },
  {
   "cell_type": "code",
   "execution_count": 25,
   "metadata": {},
   "outputs": [
    {
     "name": "stderr",
     "output_type": "stream",
     "text": [
      "C:\\Users\\PERSONAL\\AppData\\Local\\Temp\\ipykernel_9596\\2731571422.py:1: FutureWarning: Series.__getitem__ treating keys as positions is deprecated. In a future version, integer keys will always be treated as labels (consistent with DataFrame behavior). To access a value by position, use `ser.iloc[pos]`\n",
      "  movies[-1]\n"
     ]
    },
    {
     "data": {
      "text/plain": [
       "'Akshay Kumar'"
      ]
     },
     "execution_count": 25,
     "metadata": {},
     "output_type": "execute_result"
    }
   ],
   "source": [
    "movies[-1]"
   ]
  },
  {
   "cell_type": "code",
   "execution_count": 26,
   "metadata": {},
   "outputs": [
    {
     "ename": "KeyError",
     "evalue": "-1",
     "output_type": "error",
     "traceback": [
      "\u001b[1;31m---------------------------------------------------------------------------\u001b[0m",
      "\u001b[1;31mKeyError\u001b[0m                                  Traceback (most recent call last)",
      "File \u001b[1;32m~\\AppData\\Roaming\\Python\\Python312\\site-packages\\pandas\\core\\indexes\\base.py:3805\u001b[0m, in \u001b[0;36mIndex.get_loc\u001b[1;34m(self, key)\u001b[0m\n\u001b[0;32m   3804\u001b[0m \u001b[38;5;28;01mtry\u001b[39;00m:\n\u001b[1;32m-> 3805\u001b[0m     \u001b[38;5;28;01mreturn\u001b[39;00m \u001b[38;5;28;43mself\u001b[39;49m\u001b[38;5;241;43m.\u001b[39;49m\u001b[43m_engine\u001b[49m\u001b[38;5;241;43m.\u001b[39;49m\u001b[43mget_loc\u001b[49m\u001b[43m(\u001b[49m\u001b[43mcasted_key\u001b[49m\u001b[43m)\u001b[49m\n\u001b[0;32m   3806\u001b[0m \u001b[38;5;28;01mexcept\u001b[39;00m \u001b[38;5;167;01mKeyError\u001b[39;00m \u001b[38;5;28;01mas\u001b[39;00m err:\n",
      "File \u001b[1;32mindex.pyx:167\u001b[0m, in \u001b[0;36mpandas._libs.index.IndexEngine.get_loc\u001b[1;34m()\u001b[0m\n",
      "File \u001b[1;32mindex.pyx:196\u001b[0m, in \u001b[0;36mpandas._libs.index.IndexEngine.get_loc\u001b[1;34m()\u001b[0m\n",
      "File \u001b[1;32mpandas\\\\_libs\\\\hashtable_class_helper.pxi:2606\u001b[0m, in \u001b[0;36mpandas._libs.hashtable.Int64HashTable.get_item\u001b[1;34m()\u001b[0m\n",
      "File \u001b[1;32mpandas\\\\_libs\\\\hashtable_class_helper.pxi:2630\u001b[0m, in \u001b[0;36mpandas._libs.hashtable.Int64HashTable.get_item\u001b[1;34m()\u001b[0m\n",
      "\u001b[1;31mKeyError\u001b[0m: -1",
      "\nThe above exception was the direct cause of the following exception:\n",
      "\u001b[1;31mKeyError\u001b[0m                                  Traceback (most recent call last)",
      "Cell \u001b[1;32mIn[26], line 1\u001b[0m\n\u001b[1;32m----> 1\u001b[0m \u001b[43mvk\u001b[49m\u001b[43m[\u001b[49m\u001b[38;5;241;43m-\u001b[39;49m\u001b[38;5;241;43m1\u001b[39;49m\u001b[43m]\u001b[49m\n",
      "File \u001b[1;32m~\\AppData\\Roaming\\Python\\Python312\\site-packages\\pandas\\core\\series.py:1121\u001b[0m, in \u001b[0;36mSeries.__getitem__\u001b[1;34m(self, key)\u001b[0m\n\u001b[0;32m   1118\u001b[0m     \u001b[38;5;28;01mreturn\u001b[39;00m \u001b[38;5;28mself\u001b[39m\u001b[38;5;241m.\u001b[39m_values[key]\n\u001b[0;32m   1120\u001b[0m \u001b[38;5;28;01melif\u001b[39;00m key_is_scalar:\n\u001b[1;32m-> 1121\u001b[0m     \u001b[38;5;28;01mreturn\u001b[39;00m \u001b[38;5;28;43mself\u001b[39;49m\u001b[38;5;241;43m.\u001b[39;49m\u001b[43m_get_value\u001b[49m\u001b[43m(\u001b[49m\u001b[43mkey\u001b[49m\u001b[43m)\u001b[49m\n\u001b[0;32m   1123\u001b[0m \u001b[38;5;66;03m# Convert generator to list before going through hashable part\u001b[39;00m\n\u001b[0;32m   1124\u001b[0m \u001b[38;5;66;03m# (We will iterate through the generator there to check for slices)\u001b[39;00m\n\u001b[0;32m   1125\u001b[0m \u001b[38;5;28;01mif\u001b[39;00m is_iterator(key):\n",
      "File \u001b[1;32m~\\AppData\\Roaming\\Python\\Python312\\site-packages\\pandas\\core\\series.py:1237\u001b[0m, in \u001b[0;36mSeries._get_value\u001b[1;34m(self, label, takeable)\u001b[0m\n\u001b[0;32m   1234\u001b[0m     \u001b[38;5;28;01mreturn\u001b[39;00m \u001b[38;5;28mself\u001b[39m\u001b[38;5;241m.\u001b[39m_values[label]\n\u001b[0;32m   1236\u001b[0m \u001b[38;5;66;03m# Similar to Index.get_value, but we do not fall back to positional\u001b[39;00m\n\u001b[1;32m-> 1237\u001b[0m loc \u001b[38;5;241m=\u001b[39m \u001b[38;5;28;43mself\u001b[39;49m\u001b[38;5;241;43m.\u001b[39;49m\u001b[43mindex\u001b[49m\u001b[38;5;241;43m.\u001b[39;49m\u001b[43mget_loc\u001b[49m\u001b[43m(\u001b[49m\u001b[43mlabel\u001b[49m\u001b[43m)\u001b[49m\n\u001b[0;32m   1239\u001b[0m \u001b[38;5;28;01mif\u001b[39;00m is_integer(loc):\n\u001b[0;32m   1240\u001b[0m     \u001b[38;5;28;01mreturn\u001b[39;00m \u001b[38;5;28mself\u001b[39m\u001b[38;5;241m.\u001b[39m_values[loc]\n",
      "File \u001b[1;32m~\\AppData\\Roaming\\Python\\Python312\\site-packages\\pandas\\core\\indexes\\base.py:3812\u001b[0m, in \u001b[0;36mIndex.get_loc\u001b[1;34m(self, key)\u001b[0m\n\u001b[0;32m   3807\u001b[0m     \u001b[38;5;28;01mif\u001b[39;00m \u001b[38;5;28misinstance\u001b[39m(casted_key, \u001b[38;5;28mslice\u001b[39m) \u001b[38;5;129;01mor\u001b[39;00m (\n\u001b[0;32m   3808\u001b[0m         \u001b[38;5;28misinstance\u001b[39m(casted_key, abc\u001b[38;5;241m.\u001b[39mIterable)\n\u001b[0;32m   3809\u001b[0m         \u001b[38;5;129;01mand\u001b[39;00m \u001b[38;5;28many\u001b[39m(\u001b[38;5;28misinstance\u001b[39m(x, \u001b[38;5;28mslice\u001b[39m) \u001b[38;5;28;01mfor\u001b[39;00m x \u001b[38;5;129;01min\u001b[39;00m casted_key)\n\u001b[0;32m   3810\u001b[0m     ):\n\u001b[0;32m   3811\u001b[0m         \u001b[38;5;28;01mraise\u001b[39;00m InvalidIndexError(key)\n\u001b[1;32m-> 3812\u001b[0m     \u001b[38;5;28;01mraise\u001b[39;00m \u001b[38;5;167;01mKeyError\u001b[39;00m(key) \u001b[38;5;28;01mfrom\u001b[39;00m \u001b[38;5;21;01merr\u001b[39;00m\n\u001b[0;32m   3813\u001b[0m \u001b[38;5;28;01mexcept\u001b[39;00m \u001b[38;5;167;01mTypeError\u001b[39;00m:\n\u001b[0;32m   3814\u001b[0m     \u001b[38;5;66;03m# If we have a listlike key, _check_indexing_error will raise\u001b[39;00m\n\u001b[0;32m   3815\u001b[0m     \u001b[38;5;66;03m#  InvalidIndexError. Otherwise we fall through and re-raise\u001b[39;00m\n\u001b[0;32m   3816\u001b[0m     \u001b[38;5;66;03m#  the TypeError.\u001b[39;00m\n\u001b[0;32m   3817\u001b[0m     \u001b[38;5;28mself\u001b[39m\u001b[38;5;241m.\u001b[39m_check_indexing_error(key)\n",
      "\u001b[1;31mKeyError\u001b[0m: -1"
     ]
    }
   ],
   "source": [
    "vk[-1]"
   ]
  },
  {
   "cell_type": "code",
   "execution_count": 28,
   "metadata": {},
   "outputs": [
    {
     "data": {
      "text/plain": [
       "match_no\n",
       "6      9\n",
       "7     34\n",
       "8      0\n",
       "9     21\n",
       "10     3\n",
       "11    10\n",
       "12    38\n",
       "13     3\n",
       "14    11\n",
       "15    50\n",
       "16     2\n",
       "Name: runs, dtype: int64"
      ]
     },
     "execution_count": 28,
     "metadata": {},
     "output_type": "execute_result"
    }
   ],
   "source": [
    "# slicing\n",
    "vk[5:16]"
   ]
  },
  {
   "cell_type": "code",
   "execution_count": 29,
   "metadata": {},
   "outputs": [
    {
     "data": {
      "text/plain": [
       "match_no\n",
       "211     0\n",
       "212    20\n",
       "213    73\n",
       "214    25\n",
       "215     7\n",
       "Name: runs, dtype: int64"
      ]
     },
     "execution_count": 29,
     "metadata": {},
     "output_type": "execute_result"
    }
   ],
   "source": [
    "# negative slicing\n",
    "vk[-5:]"
   ]
  },
  {
   "cell_type": "code",
   "execution_count": 30,
   "metadata": {},
   "outputs": [
    {
     "data": {
      "text/plain": [
       "movie\n",
       "Uri: The Surgical Strike                   Vicky Kaushal\n",
       "The Accidental Prime Minister (film)         Anupam Kher\n",
       "Evening Shadows                         Mona Ambegaonkar\n",
       "Fraud Saiyaan                               Arshad Warsi\n",
       "Manikarnika: The Queen of Jhansi          Kangana Ranaut\n",
       "                                              ...       \n",
       "Raaz (2002 film)                              Dino Morea\n",
       "Waisa Bhi Hota Hai Part II                  Arshad Warsi\n",
       "Kaante                                  Amitabh Bachchan\n",
       "Aankhen (2002 film)                     Amitabh Bachchan\n",
       "Company (film)                                Ajay Devgn\n",
       "Name: lead, Length: 750, dtype: object"
      ]
     },
     "execution_count": 30,
     "metadata": {},
     "output_type": "execute_result"
    }
   ],
   "source": [
    "movies[::2]"
   ]
  },
  {
   "cell_type": "code",
   "execution_count": 31,
   "metadata": {},
   "outputs": [
    {
     "data": {
      "text/plain": [
       "match_no\n",
       "1     1\n",
       "3    13\n",
       "4    12\n",
       "5     1\n",
       "Name: runs, dtype: int64"
      ]
     },
     "execution_count": 31,
     "metadata": {},
     "output_type": "execute_result"
    }
   ],
   "source": [
    "# fancy indexing\n",
    "vk[[1,3,4,5]]"
   ]
  },
  {
   "cell_type": "code",
   "execution_count": 32,
   "metadata": {},
   "outputs": [
    {
     "data": {
      "text/plain": [
       "'Arjun Kapoor'"
      ]
     },
     "execution_count": 32,
     "metadata": {},
     "output_type": "execute_result"
    }
   ],
   "source": [
    "# indexing with labels -> fancy indexing\n",
    "movies['2 States (2014 film)']"
   ]
  },
  {
   "cell_type": "markdown",
   "metadata": {},
   "source": [
    "#### Editing Series"
   ]
  },
  {
   "cell_type": "code",
   "execution_count": 36,
   "metadata": {},
   "outputs": [
    {
     "data": {
      "text/plain": [
       "maths       67\n",
       "english     57\n",
       "science     89\n",
       "hindi      100\n",
       "Name: Shubhasheesh Marks, dtype: int64"
      ]
     },
     "execution_count": 36,
     "metadata": {},
     "output_type": "execute_result"
    }
   ],
   "source": [
    "marks_series"
   ]
  },
  {
   "cell_type": "code",
   "execution_count": 37,
   "metadata": {},
   "outputs": [
    {
     "name": "stderr",
     "output_type": "stream",
     "text": [
      "C:\\Users\\PERSONAL\\AppData\\Local\\Temp\\ipykernel_9596\\3621369324.py:2: FutureWarning: Series.__setitem__ treating keys as positions is deprecated. In a future version, integer keys will always be treated as labels (consistent with DataFrame behavior). To set a value by position, use `ser.iloc[pos] = value`\n",
      "  marks_series[1] = 100\n"
     ]
    },
    {
     "data": {
      "text/plain": [
       "maths       67\n",
       "english    100\n",
       "science     89\n",
       "hindi      100\n",
       "Name: Shubhasheesh Marks, dtype: int64"
      ]
     },
     "execution_count": 37,
     "metadata": {},
     "output_type": "execute_result"
    }
   ],
   "source": [
    "# using indexing\n",
    "marks_series[1] = 100\n",
    "marks_series"
   ]
  },
  {
   "cell_type": "code",
   "execution_count": 39,
   "metadata": {},
   "outputs": [],
   "source": [
    "# what if an index does not exist its created\n",
    "marks_series['evs'] = 100"
   ]
  },
  {
   "cell_type": "code",
   "execution_count": 40,
   "metadata": {},
   "outputs": [
    {
     "data": {
      "text/plain": [
       "maths       67\n",
       "english    100\n",
       "science     89\n",
       "hindi      100\n",
       "evs        100\n",
       "Name: Shubhasheesh Marks, dtype: int64"
      ]
     },
     "execution_count": 40,
     "metadata": {},
     "output_type": "execute_result"
    }
   ],
   "source": [
    "marks_series\n"
   ]
  },
  {
   "cell_type": "code",
   "execution_count": 48,
   "metadata": {},
   "outputs": [
    {
     "data": {
      "text/plain": [
       "0     13\n",
       "1     24\n",
       "2     56\n",
       "3     78\n",
       "4    100\n",
       "dtype: int64"
      ]
     },
     "execution_count": 48,
     "metadata": {},
     "output_type": "execute_result"
    }
   ],
   "source": [
    "# slicing\n",
    "runs_ser"
   ]
  },
  {
   "cell_type": "code",
   "execution_count": 49,
   "metadata": {},
   "outputs": [
    {
     "data": {
      "text/plain": [
       "0     13\n",
       "1     24\n",
       "2    100\n",
       "3    100\n",
       "4    100\n",
       "dtype: int64"
      ]
     },
     "execution_count": 49,
     "metadata": {},
     "output_type": "execute_result"
    }
   ],
   "source": [
    "runs_ser[2:4] = [100, 100]\n",
    "runs_ser"
   ]
  },
  {
   "cell_type": "code",
   "execution_count": 50,
   "metadata": {},
   "outputs": [
    {
     "data": {
      "text/plain": [
       "0      0\n",
       "1     24\n",
       "2    100\n",
       "3      0\n",
       "4      0\n",
       "dtype: int64"
      ]
     },
     "execution_count": 50,
     "metadata": {},
     "output_type": "execute_result"
    }
   ],
   "source": [
    "# fancy indexing\n",
    "runs_ser[[0,3,4]] = [0,0,0]\n",
    "runs_ser"
   ]
  },
  {
   "cell_type": "code",
   "execution_count": 52,
   "metadata": {},
   "outputs": [
    {
     "data": {
      "text/plain": [
       "movie\n",
       "Uri: The Surgical Strike                   Vicky Kaushal\n",
       "Battalion 609                                Vicky Ahuja\n",
       "The Accidental Prime Minister (film)         Anupam Kher\n",
       "Why Cheat India                               Alia Bhatt\n",
       "Evening Shadows                         Mona Ambegaonkar\n",
       "                                              ...       \n",
       "Hum Tumhare Hain Sanam                    Shah Rukh Khan\n",
       "Aankhen (2002 film)                     Amitabh Bachchan\n",
       "Saathiya (film)                             Vivek Oberoi\n",
       "Company (film)                                Ajay Devgn\n",
       "Awara Paagal Deewana                        Akshay Kumar\n",
       "Name: lead, Length: 1500, dtype: object"
      ]
     },
     "execution_count": 52,
     "metadata": {},
     "output_type": "execute_result"
    }
   ],
   "source": [
    "# using index label\n",
    "movies['Why Cheat India'] = 'Alia Bhatt'\n",
    "movies"
   ]
  },
  {
   "cell_type": "markdown",
   "metadata": {},
   "source": [
    "#### Series with Python Functionalities"
   ]
  },
  {
   "cell_type": "code",
   "execution_count": 53,
   "metadata": {},
   "outputs": [
    {
     "name": "stdout",
     "output_type": "stream",
     "text": [
      "365\n",
      "<class 'pandas.core.series.Series'>\n",
      "['T', '_AXIS_LEN', '_AXIS_ORDERS', '_AXIS_TO_AXIS_NUMBER', '_HANDLED_TYPES', '__abs__', '__add__', '__and__', '__annotations__', '__array__', '__array_priority__', '__array_ufunc__', '__bool__', '__class__', '__column_consortium_standard__', '__contains__', '__copy__', '__deepcopy__', '__delattr__', '__delitem__', '__dict__', '__dir__', '__divmod__', '__doc__', '__eq__', '__finalize__', '__float__', '__floordiv__', '__format__', '__ge__', '__getattr__', '__getattribute__', '__getitem__', '__getstate__', '__gt__', '__hash__', '__iadd__', '__iand__', '__ifloordiv__', '__imod__', '__imul__', '__init__', '__init_subclass__', '__int__', '__invert__', '__ior__', '__ipow__', '__isub__', '__iter__', '__itruediv__', '__ixor__', '__le__', '__len__', '__lt__', '__matmul__', '__mod__', '__module__', '__mul__', '__ne__', '__neg__', '__new__', '__nonzero__', '__or__', '__pandas_priority__', '__pos__', '__pow__', '__radd__', '__rand__', '__rdivmod__', '__reduce__', '__reduce_ex__', '__repr__', '__rfloordiv__', '__rmatmul__', '__rmod__', '__rmul__', '__ror__', '__round__', '__rpow__', '__rsub__', '__rtruediv__', '__rxor__', '__setattr__', '__setitem__', '__setstate__', '__sizeof__', '__str__', '__sub__', '__subclasshook__', '__truediv__', '__weakref__', '__xor__', '_accessors', '_accum_func', '_agg_examples_doc', '_agg_see_also_doc', '_align_for_op', '_align_frame', '_align_series', '_append', '_arith_method', '_as_manager', '_attrs', '_binop', '_cacher', '_can_hold_na', '_check_inplace_and_allows_duplicate_labels', '_check_is_chained_assignment_possible', '_check_label_or_level_ambiguity', '_check_setitem_copy', '_clear_item_cache', '_clip_with_one_bound', '_clip_with_scalar', '_cmp_method', '_consolidate', '_consolidate_inplace', '_construct_axes_dict', '_construct_result', '_constructor', '_constructor_expanddim', '_constructor_expanddim_from_mgr', '_constructor_from_mgr', '_data', '_deprecate_downcast', '_dir_additions', '_dir_deletions', '_drop_axis', '_drop_labels_or_levels', '_duplicated', '_find_valid_index', '_flags', '_flex_method', '_from_mgr', '_get_axis', '_get_axis_name', '_get_axis_number', '_get_axis_resolvers', '_get_block_manager_axis', '_get_bool_data', '_get_cacher', '_get_cleaned_column_resolvers', '_get_index_resolvers', '_get_label_or_level_values', '_get_numeric_data', '_get_rows_with_mask', '_get_value', '_get_values_tuple', '_get_with', '_getitem_slice', '_gotitem', '_hidden_attrs', '_indexed_same', '_info_axis', '_info_axis_name', '_info_axis_number', '_init_dict', '_init_mgr', '_inplace_method', '_internal_names', '_internal_names_set', '_is_cached', '_is_copy', '_is_label_or_level_reference', '_is_label_reference', '_is_level_reference', '_is_mixed_type', '_is_view', '_is_view_after_cow_rules', '_item_cache', '_ixs', '_logical_func', '_logical_method', '_map_values', '_maybe_update_cacher', '_memory_usage', '_metadata', '_mgr', '_min_count_stat_function', '_name', '_needs_reindex_multi', '_pad_or_backfill', '_protect_consolidate', '_reduce', '_references', '_reindex_axes', '_reindex_indexer', '_reindex_multi', '_reindex_with_indexers', '_rename', '_replace_single', '_repr_data_resource_', '_repr_latex_', '_reset_cache', '_reset_cacher', '_set_as_cached', '_set_axis', '_set_axis_name', '_set_axis_nocheck', '_set_is_copy', '_set_labels', '_set_name', '_set_value', '_set_values', '_set_with', '_set_with_engine', '_shift_with_freq', '_slice', '_stat_function', '_stat_function_ddof', '_take_with_is_copy', '_to_latex_via_styler', '_typ', '_update_inplace', '_validate_dtype', '_values', '_where', 'abs', 'add', 'add_prefix', 'add_suffix', 'agg', 'aggregate', 'align', 'all', 'any', 'apply', 'argmax', 'argmin', 'argsort', 'array', 'asfreq', 'asof', 'astype', 'at', 'at_time', 'attrs', 'autocorr', 'axes', 'backfill', 'between', 'between_time', 'bfill', 'bool', 'case_when', 'clip', 'combine', 'combine_first', 'compare', 'convert_dtypes', 'copy', 'corr', 'count', 'cov', 'cummax', 'cummin', 'cumprod', 'cumsum', 'describe', 'diff', 'div', 'divide', 'divmod', 'dot', 'drop', 'drop_duplicates', 'droplevel', 'dropna', 'dtype', 'dtypes', 'duplicated', 'empty', 'eq', 'equals', 'ewm', 'expanding', 'explode', 'factorize', 'ffill', 'fillna', 'filter', 'first', 'first_valid_index', 'flags', 'floordiv', 'ge', 'get', 'groupby', 'gt', 'hasnans', 'head', 'hist', 'iat', 'idxmax', 'idxmin', 'iloc', 'index', 'infer_objects', 'info', 'interpolate', 'is_monotonic_decreasing', 'is_monotonic_increasing', 'is_unique', 'isin', 'isna', 'isnull', 'item', 'items', 'keys', 'kurt', 'kurtosis', 'last', 'last_valid_index', 'le', 'list', 'loc', 'lt', 'map', 'mask', 'max', 'mean', 'median', 'memory_usage', 'min', 'mod', 'mode', 'mul', 'multiply', 'name', 'nbytes', 'ndim', 'ne', 'nlargest', 'notna', 'notnull', 'nsmallest', 'nunique', 'pad', 'pct_change', 'pipe', 'plot', 'pop', 'pow', 'prod', 'product', 'quantile', 'radd', 'rank', 'ravel', 'rdiv', 'rdivmod', 'reindex', 'reindex_like', 'rename', 'rename_axis', 'reorder_levels', 'repeat', 'replace', 'resample', 'reset_index', 'rfloordiv', 'rmod', 'rmul', 'rolling', 'round', 'rpow', 'rsub', 'rtruediv', 'sample', 'searchsorted', 'sem', 'set_axis', 'set_flags', 'shape', 'shift', 'size', 'skew', 'sort_index', 'sort_values', 'squeeze', 'std', 'struct', 'sub', 'subtract', 'sum', 'swapaxes', 'swaplevel', 'tail', 'take', 'to_clipboard', 'to_csv', 'to_dict', 'to_excel', 'to_frame', 'to_hdf', 'to_json', 'to_latex', 'to_list', 'to_markdown', 'to_numpy', 'to_period', 'to_pickle', 'to_sql', 'to_string', 'to_timestamp', 'to_xarray', 'transform', 'transpose', 'truediv', 'truncate', 'tz_convert', 'tz_localize', 'unique', 'unstack', 'update', 'value_counts', 'values', 'var', 'view', 'where', 'xs']\n",
      "[33, 33, 35, 37, 39, 40, 40, 40, 40, 42, 42, 43, 44, 44, 44, 45, 46, 46, 48, 49, 49, 49, 49, 50, 50, 50, 51, 54, 56, 56, 56, 56, 57, 61, 62, 64, 65, 65, 66, 66, 66, 66, 67, 68, 70, 70, 70, 71, 71, 72, 72, 72, 72, 72, 73, 74, 74, 75, 76, 76, 76, 76, 77, 77, 78, 78, 78, 79, 79, 80, 80, 80, 81, 81, 82, 82, 83, 83, 83, 84, 84, 84, 85, 86, 86, 86, 87, 87, 87, 87, 88, 88, 88, 88, 88, 89, 89, 89, 90, 90, 90, 90, 91, 92, 92, 92, 93, 93, 93, 93, 95, 95, 96, 96, 96, 96, 97, 97, 98, 98, 99, 99, 100, 100, 100, 101, 101, 101, 102, 102, 103, 103, 104, 104, 104, 105, 105, 105, 105, 105, 105, 105, 105, 105, 108, 108, 108, 108, 108, 108, 109, 109, 110, 110, 110, 111, 111, 112, 113, 113, 113, 114, 114, 114, 114, 115, 115, 115, 115, 117, 117, 117, 118, 118, 119, 119, 119, 119, 120, 122, 123, 123, 123, 123, 123, 124, 125, 126, 127, 128, 128, 129, 130, 131, 131, 132, 132, 134, 134, 134, 135, 135, 136, 136, 136, 137, 138, 138, 138, 139, 140, 144, 145, 146, 146, 146, 146, 147, 149, 150, 150, 150, 150, 151, 152, 152, 152, 153, 153, 153, 154, 154, 154, 155, 155, 156, 156, 156, 156, 157, 157, 157, 157, 158, 158, 159, 159, 160, 160, 160, 160, 162, 164, 166, 167, 167, 168, 170, 170, 170, 170, 171, 172, 172, 173, 173, 173, 174, 174, 175, 175, 176, 176, 177, 178, 179, 179, 180, 180, 180, 182, 183, 183, 183, 184, 184, 184, 185, 185, 185, 185, 186, 186, 186, 188, 189, 190, 190, 192, 192, 192, 196, 196, 196, 197, 197, 202, 202, 202, 203, 204, 206, 207, 209, 210, 210, 211, 212, 213, 214, 216, 219, 220, 221, 221, 222, 222, 224, 225, 225, 226, 227, 228, 229, 230, 231, 233, 236, 236, 237, 241, 243, 244, 245, 247, 249, 254, 254, 258, 259, 259, 261, 261, 265, 267, 268, 269, 276, 276, 290, 295, 301, 306, 312, 396]\n",
      "33\n",
      "396\n"
     ]
    }
   ],
   "source": [
    "# len/type/dir/sorted/max/min\n",
    "print(len(subs))\n",
    "print(type(subs))\n",
    "print(dir(subs))\n",
    "print(sorted(subs))\n",
    "print(min(subs))\n",
    "print(max(subs))"
   ]
  },
  {
   "cell_type": "code",
   "execution_count": 54,
   "metadata": {},
   "outputs": [
    {
     "data": {
      "text/plain": [
       "[67, 100, 89, 100, 100]"
      ]
     },
     "execution_count": 54,
     "metadata": {},
     "output_type": "execute_result"
    }
   ],
   "source": [
    "# type conversion\n",
    "list(marks_series)"
   ]
  },
  {
   "cell_type": "code",
   "execution_count": 55,
   "metadata": {},
   "outputs": [
    {
     "data": {
      "text/plain": [
       "{'maths': 67, 'english': 100, 'science': 89, 'hindi': 100, 'evs': 100}"
      ]
     },
     "execution_count": 55,
     "metadata": {},
     "output_type": "execute_result"
    }
   ],
   "source": [
    "dict(marks_series)"
   ]
  },
  {
   "cell_type": "code",
   "execution_count": 56,
   "metadata": {},
   "outputs": [
    {
     "data": {
      "text/plain": [
       "True"
      ]
     },
     "execution_count": 56,
     "metadata": {},
     "output_type": "execute_result"
    }
   ],
   "source": [
    "# membership operator\n",
    "\n",
    "'2 States (2014 film)' in movies"
   ]
  },
  {
   "cell_type": "code",
   "execution_count": 57,
   "metadata": {},
   "outputs": [
    {
     "data": {
      "text/plain": [
       "True"
      ]
     },
     "execution_count": 57,
     "metadata": {},
     "output_type": "execute_result"
    }
   ],
   "source": [
    "'Alia Bhatt' in movies.values"
   ]
  },
  {
   "cell_type": "code",
   "execution_count": 58,
   "metadata": {},
   "outputs": [
    {
     "data": {
      "text/plain": [
       "movie\n",
       "Uri: The Surgical Strike                   Vicky Kaushal\n",
       "Battalion 609                                Vicky Ahuja\n",
       "The Accidental Prime Minister (film)         Anupam Kher\n",
       "Why Cheat India                               Alia Bhatt\n",
       "Evening Shadows                         Mona Ambegaonkar\n",
       "                                              ...       \n",
       "Hum Tumhare Hain Sanam                    Shah Rukh Khan\n",
       "Aankhen (2002 film)                     Amitabh Bachchan\n",
       "Saathiya (film)                             Vivek Oberoi\n",
       "Company (film)                                Ajay Devgn\n",
       "Awara Paagal Deewana                        Akshay Kumar\n",
       "Name: lead, Length: 1500, dtype: object"
      ]
     },
     "execution_count": 58,
     "metadata": {},
     "output_type": "execute_result"
    }
   ],
   "source": [
    "movies"
   ]
  },
  {
   "cell_type": "code",
   "execution_count": 59,
   "metadata": {},
   "outputs": [
    {
     "name": "stdout",
     "output_type": "stream",
     "text": [
      "Uri: The Surgical Strike\n",
      "Battalion 609\n",
      "The Accidental Prime Minister (film)\n",
      "Why Cheat India\n",
      "Evening Shadows\n",
      "Soni (film)\n",
      "Fraud Saiyaan\n",
      "Bombairiya\n",
      "Manikarnika: The Queen of Jhansi\n",
      "Thackeray (film)\n",
      "Amavas\n",
      "Gully Boy\n",
      "Hum Chaar\n",
      "Total Dhamaal\n",
      "Sonchiriya\n",
      "Badla (2019 film)\n",
      "Mard Ko Dard Nahi Hota\n",
      "Hamid (film)\n",
      "Photograph (film)\n",
      "Risknamaa\n",
      "Mere Pyare Prime Minister\n",
      "22 Yards\n",
      "Kesari (film)\n",
      "Notebook (2019 film)\n",
      "Junglee (2019 film)\n",
      "Gone Kesh\n",
      "Albert Pinto Ko Gussa Kyun Aata Hai?\n",
      "The Tashkent Files\n",
      "Kalank\n",
      "Setters (film)\n",
      "Student of the Year 2\n",
      "PM Narendra Modi\n",
      "De De Pyaar De\n",
      "India's Most Wanted (film)\n",
      "Yeh Hai India\n",
      "Khamoshi (2019 film)\n",
      "Kabir Singh\n",
      "Article 15 (film)\n",
      "One Day: Justice Delivered\n",
      "Hume Tumse Pyaar Kitna\n",
      "Super 30 (film)\n",
      "Family of Thakurganj\n",
      "Batla House\n",
      "Jhootha Kahin Ka\n",
      "Judgementall Hai Kya\n",
      "Chicken Curry Law\n",
      "Arjun Patiala\n",
      "Jabariya Jodi\n",
      "Pranaam\n",
      "The Sky Is Pink\n",
      "Mission Mangal\n",
      "Saaho\n",
      "Dream Girl (2019 film)\n",
      "Section 375\n",
      "The Zoya Factor (film)\n",
      "Pal Pal Dil Ke Paas\n",
      "Prassthanam\n",
      "P Se Pyaar F Se Faraar\n",
      "Ghost (2019 film)\n",
      "Bala (2019 film)\n",
      "Yaaram (2019 film)\n",
      "Housefull 4\n",
      "Saand Ki Aankh\n",
      "Made in China (2019 film)\n",
      "Ujda Chaman\n",
      "Bypass Road (film)\n",
      "Satellite Shankar\n",
      "Jhalki\n",
      "Marjaavaan\n",
      "Motichoor Chaknachoor\n",
      "Keep Safe Distance (film)\n",
      "Pagalpanti (2019 film)\n",
      "Ramprasad Ki Tehrvi\n",
      "Yeh Saali Aashiqui\n",
      "Dil Bechara\n",
      "Pati Patni Aur Woh (2019 film)\n",
      "Commando 3 (film)\n",
      "Mardaani 2\n",
      "Dabangg 3\n",
      "Good Newwz\n",
      "Kaalakaandi\n",
      "Vodka Diaries\n",
      "My Birthday Song\n",
      "Nirdosh\n",
      "Mukkabaaz\n",
      "Union Leader (film)\n",
      "Love per Square Foot\n",
      "Aiyaary\n",
      "Padmaavat\n",
      "Kuchh Bheege Alfaaz\n",
      "Jaane Kyun De Yaaron\n",
      "Veerey Ki Wedding\n",
      "Sonu Ke Titu Ki Sweety\n",
      "Hate Story 4\n",
      "Dil Juunglee\n",
      "3 Storeys\n",
      "Raid (2018 film)\n",
      "Hichki\n",
      "Missing (2018 film)\n",
      "Baaghi 2\n",
      "October (2018 film)\n",
      "Mercury (film)\n",
      "Beyond the Clouds (2017 film)\n",
      "Nanu Ki Jaanu\n",
      "Daas Dev\n",
      "Omerta (film)\n",
      "Raazi\n",
      "Hope Aur Hum\n",
      "High Jack (film)\n",
      "Khajoor Pe Atke\n",
      "Parmanu: The Story of Pokhran\n",
      "Bioscopewala\n",
      "Bhavesh Joshi Superhero\n",
      "Phamous\n",
      "Race 3\n",
      "Dhadak\n",
      "Sanju\n",
      "Saheb Biwi Aur Gangster 3\n",
      "Nawabzaade\n",
      "Mulk (film)\n",
      "Brij Mohan Amar Rahe\n",
      "Karwaan\n",
      "Gold (2018 film)\n",
      "Satyameva Jayate (2018 film)\n",
      "Happy Phirr Bhag Jayegi\n",
      "Genius (2018 Hindi film)\n",
      "Yamla Pagla Deewana: Phir Se\n",
      "Stree (2018 film)\n",
      "Paltan (film)\n",
      "Laila Majnu (2018 film)\n",
      "Gali Guleiyan\n",
      "Halkaa\n",
      "Pataakha\n",
      "Batti Gul Meter Chalu\n",
      "Love Sonia\n",
      "Manto (2018 film)\n",
      "Ishqeria\n",
      "Manmarziyaan\n",
      "Mitron\n",
      "Sui Dhaaga\n",
      "Baazaar\n",
      "Jalebi (film)\n",
      "FryDay\n",
      "Tumbbad\n",
      "Helicopter Eela\n",
      "Namaste England\n",
      "Andhadhun\n",
      "Badhaai Ho\n",
      "5 Weddings\n",
      "Kaashi in Search of Ganga\n",
      "Dassehra\n",
      "The Journey of Karma\n",
      "Jack and Dil\n",
      "Mohalla Assi\n",
      "Pihu\n",
      "Bhaiaji Superhit\n",
      "Rajma Chawal\n",
      "Zero (2018 film)\n",
      "Simmba\n",
      "Tiger Zinda Hai\n",
      "Golmaal Again\n",
      "Judwaa 2\n",
      "Ok Jaanu\n",
      "Coffee with D\n",
      "Kaabil\n",
      "Raees (film)\n",
      "Thugs of Hindostan\n",
      "Hind Ka Napak Ko Jawab: MSG Lion Heart 2\n",
      "Running Shaadi\n",
      "The Ghazi Attack\n",
      "Irada (2017 film)\n",
      "Rangoon (2017 Hindi film)\n",
      "Wedding Anniversary\n",
      "Jeena Isi Ka Naam Hai (film)\n",
      "Badrinath Ki Dulhania\n",
      "Trapped (2016 Hindi film)\n",
      "Aa Gaya Hero\n",
      "Mantra (2016 film)\n",
      "Phillauri (film)\n",
      "Machine (2017 film)\n",
      "Bhanwarey\n",
      "Anaarkali of Aarah\n",
      "Naam Shabana\n",
      "Hotel Salvation\n",
      "Begum Jaan\n",
      "Noor (film)\n",
      "Ek Thi Rani Aisi Bhi\n",
      "Maatr\n",
      "Sarkar 3\n",
      "Jattu Engineer\n",
      "Half Girlfriend (film)\n",
      "Meri Pyaari Bindu\n",
      "Sachin: A Billion Dreams\n",
      "Hindi Medium\n",
      "Sweetiee Weds NRI\n",
      "Dobaara: See Your Evil\n",
      "Flat 211\n",
      "Dear Maya\n",
      "Raabta (film)\n",
      "Behen Hogi Teri\n",
      "Tubelight (2017 Hindi film)\n",
      "Bank Chor\n",
      "Ek Haseena Thi Ek Deewana Tha\n",
      "Jagga Jasoos\n",
      "Shab (film)\n",
      "Lipstick Under My Burkha\n",
      "Bachche Kachche Sachche\n",
      "G Kutta Se\n",
      "Indu Sarkar\n",
      "Jab Harry Met Sejal\n",
      "Munna Michael\n",
      "Toilet: Ek Prem Katha\n",
      "Mubarakan\n",
      "Guest iin London\n",
      "Bareilly Ki Barfi\n",
      "Babumoshai Bandookbaaz\n",
      "Yadvi – The Dignified Princess\n",
      "Qaidi Band\n",
      "Shubh Mangal Saavdhan\n",
      "Raag Desh (film)\n",
      "Daddy (2017 film)\n",
      "Simran (film)\n",
      "Lucknow Central\n",
      "A Gentleman\n",
      "Viceroy's House (film)\n",
      "Patel Ki Punjabi Shaadi\n",
      "Newton (film)\n",
      "The Final Exit\n",
      "Bhoomi (film)\n",
      "Haseena Parkar\n",
      "JD (film)\n",
      "Haraamkhor\n",
      "Poster Boys\n",
      "Mom (film)\n",
      "Chef (2017 film)\n",
      "Ranchi Diaries\n",
      "Babuji Ek Ticket Bambai\n",
      "Rukh (film)\n",
      "Secret Superstar\n",
      "Aval (2017 film)\n",
      "Ribbon (film)\n",
      "Shaadi Mein Zaroor Aana\n",
      "Jia Aur Jia\n",
      "Qarib Qarib Singlle\n",
      "Aksar 2\n",
      "Panchlait\n",
      "Tumhari Sulu\n",
      "Julie 2\n",
      "Kadvi Hawa\n",
      "Firangi\n",
      "Fukrey Returns\n",
      "Monsoon Shootout\n",
      "Ajji\n",
      "Chalk n Duster\n",
      "Rebellious Flower\n",
      "Saankal\n",
      "Airlift (film)\n",
      "Sallu Ki Shaadi\n",
      "Irudhi Suttru\n",
      "Kyaa Kool Hain Hum 3\n",
      "Mastizaade\n",
      "Dil Jo Na Keh Saka\n",
      "Jugni (2016 film)\n",
      "Ghayal: Once Again\n",
      "Fitoor\n",
      "Sanam Re\n",
      "Direct Ishq\n",
      "Ishq Forever\n",
      "Loveshhuda\n",
      "Neerja\n",
      "Aligarh (film)\n",
      "Bollywood Diaries\n",
      "Love Shagun\n",
      "Tere Bin Laden: Dead or Alive\n",
      "Jai Gangaajal\n",
      "Kapoor & Sons\n",
      "Rocky Handsome\n",
      "Love Games (film)\n",
      "Fan (film)\n",
      "Nil Battey Sannata\n",
      "Laal Rang\n",
      "Baaghi (2016 film)\n",
      "Global Baba\n",
      "Shortcut Safari\n",
      "The Blueberry Hunt\n",
      "Santa Banta Pvt Ltd\n",
      "Traffic (2016 film)\n",
      "1920: London\n",
      "Azhar (film)\n",
      "Buddha in a Traffic Jam\n",
      "Murari the Mad Gentleman\n",
      "Dear Dad (film)\n",
      "Phobia (2016 film)\n",
      "Sarbjit (film)\n",
      "Veerappan (2016 film)\n",
      "Do Lafzon Ki Kahani (film)\n",
      "Te3n\n",
      "Udta Punjab\n",
      "Khel Toh Ab Shuru Hoga\n",
      "Luv U Alia\n",
      "7 Hours to Go\n",
      "Raman Raghav 2.0\n",
      "Junooniyat\n",
      "Rough Book\n",
      "Dhanak\n",
      "Fredrick (film)\n",
      "Dil Toh Deewana Hai\n",
      "Sultan (2016 film)\n",
      "Brahman Naman\n",
      "Great Grand Masti\n",
      "Waiting (2015 film)\n",
      "Ishq Click\n",
      "M Cream\n",
      "Madaari\n",
      "Dishoom\n",
      "Fever (2016 film)\n",
      "Rustom (film)\n",
      "Hai Apna Dil Toh Awara\n",
      "Mohenjo Daro (film)\n",
      "Happy Bhag Jayegi\n",
      "Waarrior Savitri\n",
      "A Flying Jatt\n",
      "Baar Baar Dekho\n",
      "Freaky Ali\n",
      "Raaz: Reboot\n",
      "Pink (2016 film)\n",
      "Parched\n",
      "Banjo (2016 film)\n",
      "Days of Tafree\n",
      "Wah Taj\n",
      "Island City (2015 film)\n",
      "Ek Kahani Julie Ki\n",
      "M.S. Dhoni: The Untold Story\n",
      "MSG: The Warrior Lion Heart\n",
      "Devi (2016 film)\n",
      "Motu Patlu: King of Kings\n",
      "Anna (2016 film)\n",
      "Fuddu\n",
      "Saat Uchakkey\n",
      "Beiimaan Love\n",
      "Umrika\n",
      "Shivaay\n",
      "Dongari Ka Raja\n",
      "Ae Dil Hai Mushkil\n",
      "Tum Bin II\n",
      "Rock On 2\n",
      "Force 2\n",
      "Dear Zindagi\n",
      "Befikre\n",
      "Moh Maya Money\n",
      "Shorgul\n",
      "Saansein\n",
      "Ki & Ka\n",
      "Wajah Tum Ho\n",
      "Dangal (film)\n",
      "Mirzya (film)\n",
      "Prem Ratan Dhan Payo\n",
      "Tanu Weds Manu: Returns\n",
      "Tanu Weds Manu: Returns\n",
      "31st October (film)\n",
      "ABCD 2\n",
      "Dilwale (2015 film)\n",
      "Bajrangi Bhaijaan\n",
      "Bajirao Mastani\n",
      "Welcome Back (film)\n",
      "Baby (2015 Hindi film)\n",
      "Singh Is Bliing\n",
      "Gabbar Is Back\n",
      "Gabbar Is Back\n",
      "Mumbai Can Dance Saala\n",
      "Alone (2015 Hindi film)\n",
      "Tevar\n",
      "Sharafat Gayi Tel Lene\n",
      "Dolly Ki Doli\n",
      "Hawaizaada\n",
      "Khamoshiyan\n",
      "Rahasya\n",
      "Jai Jawaan Jai Kisaan (film)\n",
      "Shamitabh\n",
      "Roy (film)\n",
      "Badlapur (film)\n",
      "Crazy Cukkad Family\n",
      "Take It Easy (2015 film)\n",
      "Qissa (film)\n",
      "Ab Tak Chhappan 2\n",
      "Dum Laga Ke Haisha\n",
      "Dirty Politics (film)\n",
      "MSG: The Messenger\n",
      "Badmashiyaan\n",
      "Coffee Bloom\n",
      "Hey Bro\n",
      "NH10 (film)\n",
      "Hunterrr\n",
      "Detective Byomkesh Bakshy!\n",
      "Luckhnowi Ishq\n",
      "Court (film)\n",
      "Margarita with a Straw\n",
      "Ek Paheli Leela\n",
      "Barkhaa\n",
      "Mr. X (2015 film)\n",
      "NH-8 Road to Nidhivan\n",
      "Dilliwali Zaalim Girlfriend\n",
      "Dharam Sankat Mein\n",
      "Kaagaz Ke Fools\n",
      "Kuch Kuch Locha Hai\n",
      "Piku\n",
      "Bombay Velvet\n",
      "I Love Desi\n",
      "Dil Dhadakne Do\n",
      "Welcome 2 Karachi\n",
      "P Se PM Tak\n",
      "Mere Genie Uncle\n",
      "Hamari Adhuri Kahani\n",
      "Miss Tanakpur Haazir Ho\n",
      "Uvaa\n",
      "Ishq Ke Parindey\n",
      "Ishqedarriyaan\n",
      "Sabki Bajegi Band\n",
      "Masaan\n",
      "Guddu Rangeela\n",
      "Bezubaan Ishq\n",
      "Aisa Yeh Jahaan\n",
      "Second Hand Husband\n",
      "I Love NY (2015 film)\n",
      "Main Hoon Part-Time Killer\n",
      "Kaun Kitne Paani Mein\n",
      "Drishyam (2015 film)\n",
      "Bangistan\n",
      "All Is Well (2015 film)\n",
      "Brothers (2015 film)\n",
      "Gour Hari Dastaan\n",
      "Manjhi – The Mountain Man\n",
      "Thoda Lutf Thoda Ishq\n",
      "Phantom (2015 film)\n",
      "Hero (2015 Hindi film)\n",
      "Sorry Daddy\n",
      "Talvar (film)\n",
      "Katti Batti\n",
      "Meeruthiya Gangsters\n",
      "MSG-2 The Messenger\n",
      "Calendar Girls (2015 film)\n",
      "Bhaag Johnny\n",
      "Jazbaa\n",
      "Bumper Draw\n",
      "Chinar Daastaan-E-Ishq\n",
      "Kis Kisko Pyaar Karoon\n",
      "Pyaar Ka Punchnama 2\n",
      "Wedding Pullav\n",
      "Shaandaar\n",
      "Titli (2014 film)\n",
      "Guddu Ki Gun\n",
      "The Silent Heroes\n",
      "Ranbanka\n",
      "Sholay\n",
      "Dedh Ishqiya\n",
      "Karle Pyaar Karle\n",
      "Om-Dar-B-Dar\n",
      "Paranthe Wali Gali\n",
      "Strings of Passion\n",
      "Gunday\n",
      "Jai Ho (film)\n",
      "Hasee Toh Phasee\n",
      "Heartless (2014 film)\n",
      "Ya Rab\n",
      "Darr @ the Mall\n",
      "One by Two (2014 film)\n",
      "Babloo Happy Hai\n",
      "Highway (2014 Hindi film)\n",
      "Gulabi Gang (film)\n",
      "Shaadi Ke Side Effects\n",
      "Gulaab Gang\n",
      "Queen (2014 film)\n",
      "Bewakoofiyaan\n",
      "Total Siyapaa\n",
      "Karar: The Deal\n",
      "Lakshmi (2014 film)\n",
      "Ragini MMS 2\n",
      "Dishkiyaoon\n",
      "Ankhon Dekhi\n",
      "Gang of Ghosts\n",
      "Anuradha (2014 film)\n",
      "W (2014 film)\n",
      "O Teri\n",
      "Honour Killing (film)\n",
      "2 States (2014 film)\n",
      "Jal (film)\n",
      "Bhoothnath Returns\n",
      "Main Tera Hero\n",
      "Lucky Kabootar\n",
      "Station (2014 film)\n",
      "Youngistaan\n",
      "Samrat & Co.\n",
      "Purani Jeans\n",
      "Kya Dilli Kya Lahore\n",
      "Koyelaanchal\n",
      "Manjunath (film)\n",
      "Dekh Tamasha Dekh\n",
      "Mastram\n",
      "The Xposé\n",
      "Children of War (2014 film)\n",
      "Hawaa Hawaai\n",
      "Kahin Hai Mera Pyar\n",
      "Kuku Mathur Ki Jhand Ho Gayi\n",
      "Heropanti\n",
      "CityLights (2014 film)\n",
      "Filmistaan\n",
      "Revolver Rani\n",
      "Kaanchi: The Unbreakable\n",
      "Machhli Jal Ki Rani Hai\n",
      "Khwaabb\n",
      "Yeh Hai Bakrapur\n",
      "Ek Villain\n",
      "Bobby Jasoos\n",
      "Humshakals\n",
      "Humpty Sharma Ki Dulhania\n",
      "Hate Story 2\n",
      "Lekar Hum Deewana Dil\n",
      "Riyasat (film)\n",
      "Amit Sahni Ki List\n",
      "Holiday: A Soldier Is Never Off Duty\n",
      "Fugly (film)\n",
      "Bazaar E Husn\n",
      "Pizza (2014 film)\n",
      "Entertainment (2014 film)\n",
      "Singham Returns\n",
      "Mardaani\n",
      "Raja Natwarlal\n",
      "Mary Kom (film)\n",
      "Creature 3D\n",
      "Finding Fanny\n",
      "Khoobsurat (2014 film)\n",
      "3 A.M. (2014 film)\n",
      "Kick (2014 film)\n",
      "Mad About Dance\n",
      "Mumbhai Connection\n",
      "Life Is Beautiful (2014 film)\n",
      "Desi Kattey\n",
      "Haider (film)\n",
      "Bang Bang!\n",
      "Spark (2014 film)\n",
      "Daawat-e-Ishq\n",
      "Balwinder Singh Famous Ho Gaya\n",
      "Jigariyaa\n",
      "Tamanchey\n",
      "Mumbai 125 KM\n",
      "Meinu Ek Ladki Chaahiye\n",
      "Chaarfutiya Chhokare\n",
      "Sonali Cable\n",
      "Happy New Year (2014 film)\n",
      "Super Nani\n",
      "Ekkees Toppon Ki Salaami\n",
      "Rang Rasiya\n",
      "The Shaukeens\n",
      "Roar: Tigers of the Sundarbans\n",
      "A Decent Arrangement\n",
      "Gollu Aur Pappu\n",
      "Titoo MBA\n",
      "Kill Dil\n",
      "Ungli\n",
      "Happy Ending (film)\n",
      "Zed Plus\n",
      "Zid (2014 film)\n",
      "Action Jackson (2014 film)\n",
      "Bhopal: A Prayer for Rain\n",
      "Mumbai Delhi Mumbai\n",
      "Badlapur Boys\n",
      "Main Aur Mr. Riight\n",
      "Ugly (film)\n",
      "PK (film)\n",
      "Dehraadun Diary\n",
      "Matru Ki Bijlee Ka Mandola\n",
      "Sulemani Keeda\n",
      "Inkaar (2013 film)\n",
      "Gangoobai\n",
      "Akaash Vani\n",
      "Main Krishna Hoon\n",
      "Race 2\n",
      "Bandook\n",
      "Listen... Amaya\n",
      "Special 26\n",
      "Murder 3\n",
      "Zila Ghaziabad\n",
      "Kai Po Che!\n",
      "Bloody Isshq\n",
      "Saare Jahaan Se Mehnga\n",
      "3G (film)\n",
      "Mere Dad Ki Maruti\n",
      "Jolly LLB\n",
      "Saheb Biwi Aur Gangster Returns\n",
      "Mai (2013 film)\n",
      "Vishwaroopam\n",
      "Rangrezz\n",
      "Aashiqui 2\n",
      "Ek Thi Daayan\n",
      "Himmatwala (2013 film)\n",
      "Nautanki Saala!\n",
      "Jayantabhai Ki Luv Story\n",
      "Commando: A One Man Army\n",
      "Bombay Talkies (film)\n",
      "Go Goa Gone\n",
      "Gippi\n",
      "Aurangzeb (film)\n",
      "Ishkq in Paris\n",
      "Zindagi 50-50\n",
      "Yeh Jawaani Hai Deewani\n",
      "Fukrey\n",
      "Chhota Bheem and the Throne of Bali\n",
      "Raanjhanaa\n",
      "Ankur Arora Murder Case\n",
      "Shortcut Romeo\n",
      "Ghanchakkar (film)\n",
      "Hum Hai Raahi Car Ke\n",
      "Policegiri\n",
      "Bhaag Milkha Bhaag\n",
      "Sixteen (2013 Indian film)\n",
      "B.A. Pass\n",
      "Enemmy\n",
      "Issaq\n",
      "Bajatey Raho\n",
      "Luv U Soniyo\n",
      "Nasha (film)\n",
      "Chor Chor Super Chor\n",
      "Calapor (film)\n",
      "Love in Bombay\n",
      "D-Day (2013 film)\n",
      "Siddharth (2013 film)\n",
      "Once Upon ay Time in Mumbai Dobaara!\n",
      "Madras Cafe\n",
      "Satyagraha (film)\n",
      "Shuddh Desi Romance\n",
      "Ramaiya Vastavaiya\n",
      "Chennai Express\n",
      "Grand Masti\n",
      "John Day (film)\n",
      "Horror Story (film)\n",
      "Phata Poster Nikhla Hero\n",
      "Ship of Theseus (film)\n",
      "The Lunchbox\n",
      "Baat Bann Gayi\n",
      "Boss (2013 Hindi film)\n",
      "Shahid (film)\n",
      "Mickey Virus\n",
      "Satya 2\n",
      "Rajjo\n",
      "Maazii\n",
      "Sooper Se Ooper\n",
      "Prague (2013 film)\n",
      "Wake Up India\n",
      "Super Model (film)\n",
      "Gori Tere Pyaar Mein\n",
      "What the Fish\n",
      "Jackpot (2013 film)\n",
      "Table No. 21\n",
      "Bullett Raja\n",
      "Dhoom 3\n",
      "Chashme Baddoor (2013 film)\n",
      "Lootera\n",
      "War Chhod Na Yaar\n",
      "Chaalis Chauraasi\n",
      "Ghost (2012 film)\n",
      "Sadda Adda\n",
      "Singh Saab the Great\n",
      "Goliyon Ki Raasleela Ram-Leela\n",
      "Agneepath (2012 film)\n",
      "Ek Main Aur Ekk Tu\n",
      "Ekk Deewana Tha\n",
      "?: A Question Mark\n",
      "Jodi Breakers\n",
      "Tere Naal Love Ho Gaya\n",
      "Staying Alive (2012 film)\n",
      "Paan Singh Tomar (film)\n",
      "Kahaani\n",
      "Zindagi Tere Naam\n",
      "Agent Vinod (2012 film)\n",
      "Blood Money (2012 film)\n",
      "Bumboo\n",
      "Valentine's Night\n",
      "Married 2 America\n",
      "Chaar Din Ki Chandni\n",
      "Bittoo Boss\n",
      "Vicky Donor\n",
      "Hate Story\n",
      "Tezz\n",
      "Dangerous Ishhq\n",
      "Ishaqzaade\n",
      "Department (film)\n",
      "Fatso!\n",
      "Arjun: The Warrior Prince\n",
      "Life Ki Toh Lag Gayi\n",
      "Shanghai (2012 film)\n",
      "Ferrari Ki Sawaari\n",
      "Teri Meri Kahaani (film)\n",
      "Mr. Bhatti on Chutti\n",
      "Yeh Khula Aasmaan\n",
      "Rakhtbeej\n",
      "Gangs of Wasseypur\n",
      "Gangs of Wasseypur – Part 2\n",
      "Cocktail (2012 film)\n",
      "Gattu\n",
      "Kyaa Super Kool Hain Hum\n",
      "Maximum (film)\n",
      "Paanch Ghantey Mien Paanch Crore\n",
      "Ek Tha Tiger\n",
      "Challo Driver\n",
      "Shirin Farhad Ki Toh Nikal Padi\n",
      "Joker (2012 film)\n",
      "Aalaap (film)\n",
      "Mere Dost Picture Abhi Baki Hai\n",
      "Krishna Aur Kans\n",
      "From Sydney with Love\n",
      "Jalpari: The Desert Mermaid\n",
      "Barfi!\n",
      "Heroine (2012 film)\n",
      "Chal Pichchur Banate Hain\n",
      "Kismat Love Paisa Dilli\n",
      "Jeena Hai Toh Thok Daal\n",
      "OMG – Oh My God!\n",
      "Aiyyaa\n",
      "Chittagong (film)\n",
      "Bhoot Returns\n",
      "Delhi Safari\n",
      "Chakravyuh (2012 film)\n",
      "Student of the Year\n",
      "Ajab Gazabb Love\n",
      "Rush (2012 film)\n",
      "1920: The Evil Returns\n",
      "Sons of Ram\n",
      "Ata Pata Laapata\n",
      "Jab Tak Hai Jaan\n",
      "Talaash: The Answer Lies Within\n",
      "Login (film)\n",
      "Son of Sardaar\n",
      "Cigarette Ki Tarah\n",
      "Dabangg 2\n",
      "Players (2012 film)\n",
      "Housefull 2\n",
      "Bol Bachchan\n",
      "English Vinglish\n",
      "Impatient Vivek\n",
      "Yamla Pagla Deewana\n",
      "Mumbai Mast Kallander\n",
      "Dhobi Ghat (film)\n",
      "Turning 30\n",
      "Hostel (2011 film)\n",
      "Dil Toh Baccha Hai Ji\n",
      "United Six\n",
      "Utt Pataang\n",
      "Patiala House (film)\n",
      "7 Khoon Maaf\n",
      "Tanu Weds Manu\n",
      "F.A.L.T.U\n",
      "Memories in March\n",
      "Thank You (2011 film)\n",
      "Angel (2011 film)\n",
      "Happy Husbands (2011 film)\n",
      "Teen Thay Bhai\n",
      "Dum Maaro Dum (film)\n",
      "Shor in the City\n",
      "Zokkomon\n",
      "Chalo Dilli\n",
      "Aashiqui.in\n",
      "Satrangee Parachute\n",
      "Monica (film)\n",
      "I Am (2010 Indian film)\n",
      "Naughty @ 40\n",
      "Haunted – 3D\n",
      "Love U...Mr. Kalakaar!\n",
      "Ragini MMS\n",
      "Stanley Ka Dabba\n",
      "Shagird (2011 film)\n",
      "404 (film)\n",
      "Shaitan (film)\n",
      "Pyaar Ka Punchnama\n",
      "Bheja Fry 2\n",
      "Always Kabhi Kabhi\n",
      "Double Dhamaal\n",
      "Bbuddah... Hoga Terra Baap\n",
      "Delhi Belly (film)\n",
      "Murder 2\n",
      "Chillar Party\n",
      "Zindagi Na Milegi Dobara\n",
      "Dear Friend Hitler\n",
      "I Am Kalam\n",
      "Bin Bulaye Baraati\n",
      "Kucch Luv Jaisaa\n",
      "Singham\n",
      "Khap (film)\n",
      "Bubble Gum (film)\n",
      "Shabri\n",
      "Phhir\n",
      "Aarakshan\n",
      "Chatur Singh Two Star\n",
      "Sahi Dhandhe Galat Bande\n",
      "Bodyguard (2011 Hindi film)\n",
      "Yeh Dooriyan\n",
      "Not a Love Story (2011 film)\n",
      "Hum Tum Shabana\n",
      "Mummy Punjabi\n",
      "Mere Brother Ki Dulhan\n",
      "Mausam (2011 film)\n",
      "U R My Jaan\n",
      "Force (2011 film)\n",
      "Saheb Biwi Aur Gangster\n",
      "Tere Mere Phere\n",
      "Breakaway (2011 film)\n",
      "Chargesheet (film)\n",
      "Love Breakups Zindagi\n",
      "Mujhse Fraaandship Karoge\n",
      "Aazaan\n",
      "Ra.One\n",
      "Rockstar (2011 film)\n",
      "Miley Naa Miley Hum\n",
      "Tell Me O Kkhuda\n",
      "Damadamm!\n",
      "Ladies vs Ricky Bahl\n",
      "Desi Boyz\n",
      "Game (2011 film)\n",
      "No One Killed Jessica\n",
      "Rascals (2011 film)\n",
      "The Dirty Picture\n",
      "Pyaar Impossible!\n",
      "Chance Pe Dance\n",
      "My Friend Pinto\n",
      "Veer (2010 film)\n",
      "Striker (2010 film)\n",
      "Rann (film)\n",
      "Ishqiya\n",
      "Road to Sangam\n",
      "Jo Hum Chahein\n",
      "Click (2010 film)\n",
      "Toh Baat Pakki!\n",
      "My Name Is Khan\n",
      "Teen Patti (film)\n",
      "Karthik Calling Karthik\n",
      "Don 2\n",
      "Rokkk\n",
      "Aakhari Decision\n",
      "Right Yaaa Wrong\n",
      "Sukhmani: Hope for Life\n",
      "Thanks Maa\n",
      "Na Ghar Ke Na Ghaat Ke\n",
      "Trump Card (film)\n",
      "Shaapit\n",
      "Hum Tum Aur Ghost\n",
      "Well Done Abba\n",
      "Tum Milo Toh Sahi\n",
      "Jaane Kahan Se Aayi Hai\n",
      "Prem Kaa Game\n",
      "Sadiyaan\n",
      "The Japanese Wife\n",
      "Paathshaala\n",
      "Phoonk 2\n",
      "Lahore (film)\n",
      "Apartment (film)\n",
      "City of Gold (2010 film)\n",
      "Chase (2010 film)\n",
      "Housefull (2010 film)\n",
      "Mittal v/s Mittal\n",
      "It's a Wonderful Afterlife\n",
      "Prince (2010 film)\n",
      "Raavan\n",
      "Bumm Bumm Bole\n",
      "Kushti (film)\n",
      "Kites (film)\n",
      "Love Sex Aur Dhokha\n",
      "Milenge Milenge\n",
      "Ek Second... Jo Zindagi Badal De?\n",
      "Mr. Singh Mrs. Mehta\n",
      "Lamhaa\n",
      "Khatta Meetha (2010 film)\n",
      "Tere Bin Laden\n",
      "Udaan (2010 film)\n",
      "Once Upon a Time in Mumbaai\n",
      "Help (film)\n",
      "Peepli Live\n",
      "Lafangey Parindey\n",
      "Hello Darling\n",
      "Antardwand\n",
      "Aashayein\n",
      "Soch Lo\n",
      "Dabangg\n",
      "Khichdi: The Movie\n",
      "Red Alert: The War Within\n",
      "Life Express (2010 film)\n",
      "The Film Emotional Atyachar\n",
      "Hisss\n",
      "Crook (film)\n",
      "Do Dooni Chaar\n",
      "Aakrosh (2010 film)\n",
      "Ramayana: The Epic\n",
      "Knock Out (2010 film)\n",
      "Jhootha Hi Sahi\n",
      "Guzaarish (film)\n",
      "Allah Ke Banday\n",
      "Break Ke Baad\n",
      "Khuda Kasam\n",
      "Phas Gaye Re Obama\n",
      "Malik Ek\n",
      "A Flat (film)\n",
      "No Problem (2010 film)\n",
      "Band Baaja Baaraat\n",
      "Kaalo\n",
      "Mirch\n",
      "Tees Maar Khan (2010 film)\n",
      "Isi Life Mein\n",
      "Toonpur Ka Super Hero\n",
      "Tera Kya Hoga Johnny\n",
      "Ramaa: The Saviour\n",
      "I Hate Luv Storys\n",
      "Dulha Mil Gaya\n",
      "Anjaana Anjaani\n",
      "Dunno Y... Na Jaane Kyon\n",
      "Pankh\n",
      "Action Replayy\n",
      "3 Idiots\n",
      "Luck by Chance\n",
      "Love Aaj Kal\n",
      "Wanted (2009 film)\n",
      "Delhi-6\n",
      "Raaz: The Mystery Continues\n",
      "Aasma: The Sky Is the Limit\n",
      "Ajab Prem Ki Ghazab Kahani\n",
      "Chal Chala Chal\n",
      "Billu\n",
      "The Stoneman Murders\n",
      "Kisse Pyaar Karoon\n",
      "Dhoondte Reh Jaaoge\n",
      "Karma Aur Holi\n",
      "Victory (2009 film)\n",
      "Kaminey\n",
      "Jai Veeru\n",
      "Little Zizou\n",
      "Gulaal (film)\n",
      "Aloo Chaat (film)\n",
      "Barah Aana\n",
      "Firaaq\n",
      "Aa Dekhen Zara\n",
      "99 (2009 film)\n",
      "Ek: The Power of One\n",
      "Ek Se Bure Do\n",
      "Sikandar (2009 film)\n",
      "Zor Lagaa Ke...Haiya!\n",
      "Paying Guests\n",
      "New York (2009 film)\n",
      "Sankat City\n",
      "Shortkut\n",
      "Luck (2009 film)\n",
      "Life Partner\n",
      "Daddy Cool (2009 Hindi film)\n",
      "Kisaan\n",
      "Yeh Mera India\n",
      "Aagey Se Right\n",
      "Chintu Ji\n",
      "Quick Gun Murugun\n",
      "Fox (film)\n",
      "Baabarr\n",
      "Phir Kabhi\n",
      "Vaada Raha\n",
      "Dil Bole Hadippa!\n",
      "What's Your Raashee?\n",
      "Acid Factory\n",
      "All the Best: Fun Begins\n",
      "Wake Up Sid\n",
      "Main Aurr Mrs Khanna\n",
      "Blue (2009 film)\n",
      "Fruit and Nut (film)\n",
      "Aladin (film)\n",
      "London Dreams\n",
      "Jail (2009 film)\n",
      "Tum Mile\n",
      "Kurbaan (2009 film)\n",
      "De Dana Dan\n",
      "Paa (film)\n",
      "Rocket Singh: Salesman of the Year\n",
      "Raat Gayi Baat Gayi?\n",
      "Accident on Hill Road\n",
      "Chandni Chowk to China\n",
      "Dostana (2008 film)\n",
      "Race (2008 film)\n",
      "Rab Ne Bana Di Jodi\n",
      "Ghajini (2008 film)\n",
      "Singh Is Kinng\n",
      "Golmaal Returns\n",
      "Jodhaa Akbar\n",
      "Bachna Ae Haseeno\n",
      "Bhoothnath\n",
      "Sarkar Raj\n",
      "Halla Bol\n",
      "Humne Jeena Seekh Liya\n",
      "Bombay to Bangkok\n",
      "Tulsi (film)\n",
      "Sunday (2008 film)\n",
      "One Two Three\n",
      "Krazzy 4\n",
      "U Me Aur Hum\n",
      "Sirf (film)\n",
      "Tashan (film)\n",
      "Anamika (2008 film)\n",
      "Jimmy (2008 film)\n",
      "Jannat (film)\n",
      "Don Muthu Swami\n",
      "Woodstock Villa\n",
      "Mere Baap Pehle Aap\n",
      "Summer 2007\n",
      "De Taali\n",
      "Haal-e-Dil\n",
      "Thodi Life Thoda Magic\n",
      "Thoda Pyaar Thoda Magic\n",
      "Via Darjeeling\n",
      "Kismat Konnection\n",
      "Love Story 2050\n",
      "Contract (2008 film)\n",
      "Mission Istaanbul\n",
      "Money Hai Toh Honey Hai\n",
      "God Tussi Great Ho\n",
      "Mumbai Meri Jaan\n",
      "Maan Gaye Mughal-e-Azam\n",
      "Rock On!!\n",
      "C Kkompany\n",
      "Chamku\n",
      "Mukhbiir\n",
      "Tahaan\n",
      "1920 (film)\n",
      "The Last Lear\n",
      "Welcome to Sajjanpur\n",
      "Saas Bahu Aur Sensex\n",
      "Hari Puttar: A Comedy of Terrors\n",
      "Drona (2008 film)\n",
      "Hello (2008 film)\n",
      "Karzzzz\n",
      "Heroes (2008 film)\n",
      "Roadside Romeo\n",
      "Ek Vivaah... Aisa Bhi\n",
      "Deshdrohi\n",
      "Fashion (2008 film)\n",
      "Dasvidaniya\n",
      "Yuvvraaj\n",
      "Oye Lucky! Lucky Oye!\n",
      "Oh My God (2008 film)\n",
      "Sorry Bhai!\n",
      "1971 (2007 film)\n",
      "Meerabai Not Out\n",
      "Wafa: A Deadly Love Story\n",
      "Gumnaam – The Mystery\n",
      "Dil Kabaddi\n",
      "Aag (2007 film)\n",
      "Aap Kaa Surroor\n",
      "Aggar (film)\n",
      "Anwar (2007 film)\n",
      "Aaja Nachle\n",
      "Apne\n",
      "Awarapan\n",
      "Bheja Fry (film)\n",
      "Bhool Bhulaiyaa\n",
      "Bhram\n",
      "Big Brother (2007 film)\n",
      "68 Pages\n",
      "Aur Pappu Paas Ho Gaya\n",
      "Apna Asmaan\n",
      "Black Friday (2007 film)\n",
      "The Blue Umbrella (2005 film)\n",
      "Blood Brothers (2007 Indian film)\n",
      "Buddha Mar Gaya\n",
      "Cash (2007 film)\n",
      "Cheeni Kum\n",
      "Chhodon Naa Yaar\n",
      "Darling (2007 Indian film)\n",
      "Chak De! India\n",
      "Dhamaal\n",
      "Goal (2007 Hindi film)\n",
      "Dharm (film)\n",
      "Bombay to Goa (2007 film)\n",
      "Dhokha\n",
      "Dil Dosti Etc\n",
      "Dhol (film)\n",
      "Ek Chalis Ki Last Local\n",
      "Familywala\n",
      "Gandhi My Father\n",
      "Don't Stop Dreaming\n",
      "Dus Kahaniyaan\n",
      "Eklavya: The Royal Guard\n",
      "Go (2007 film)\n",
      "Gauri: The Unborn\n",
      "Heyy Babyy\n",
      "Guru (2007 film)\n",
      "Honeymoon Travels Pvt. Ltd.\n",
      "Jahan Jaaeyega Hamen Paaeyega\n",
      "Jhoom Barabar Jhoom\n",
      "Jab We Met\n",
      "Good Boy Bad Boy\n",
      "Fool & Final\n",
      "Khoya Khoya Chand\n",
      "Johnny Gaddaar\n",
      "Just Married (2007 film)\n",
      "Kya Love Story Hai\n",
      "Kudiyon Ka Hai Zamana\n",
      "Hastey Hastey\n",
      "Laaga Chunari Mein Daag\n",
      "Life in a... Metro\n",
      "Loins of Punjab Presents\n",
      "Manorama Six Feet Under\n",
      "Marigold (2007 film)\n",
      "MP3: Mera Pehla Pehla Pyaar\n",
      "Hattrick (film)\n",
      "Naqaab\n",
      "Mumbai Salsa\n",
      "The Namesake (film)\n",
      "Namastey London\n",
      "My Bollywood Bride\n",
      "Nehlle Pe Dehlla\n",
      "Nishabd\n",
      "No Smoking (2007 film)\n",
      "Om Shanti Om\n",
      "Partner (2007 film)\n",
      "Raqeeb\n",
      "Nanhe Jaisalmer\n",
      "Life Mein Kabhie Kabhiee\n",
      "Risk (2007 film)\n",
      "Shakalaka Boom Boom\n",
      "Red Swastik\n",
      "Salaam-e-Ishq: A Tribute to Love\n",
      "Saawariya\n",
      "Sarhad Paar\n",
      "Say Salaam India\n",
      "Red: The Dark Side\n",
      "Shootout at Lokhandwala\n",
      "Strangers (2007 Hindi film)\n",
      "Swami (2007 film)\n",
      "Taare Zameen Par\n",
      "Ta Ra Rum Pum\n",
      "Speed (2007 film)\n",
      "Traffic Signal (film)\n",
      "The Train (2007 film)\n",
      "Showbiz (film)\n",
      "Sunglass (film)\n",
      "Welcome (2007 film)\n",
      "36 China Town\n",
      "Zamaanat\n",
      "Aap Ki Khatir (2006 film)\n",
      "Ahista Ahista (2006 film)\n",
      "Aksar\n",
      "Alag\n",
      "Anthony Kaun Hai?\n",
      "Apna Sapna Money Money\n",
      "Ankahee (2006 film)\n",
      "Yatra (2007 film)\n",
      "Baabul (2006 film)\n",
      "Aisa Kyon Hota Hai?\n",
      "Adharm (2006 film)\n",
      "Being Cyrus\n",
      "Banaras (2006 film)\n",
      "Bas Ek Pal\n",
      "Bhagam Bhag\n",
      "Chingaari\n",
      "Bhoot Unkle\n",
      "Chand Ke Paar Chalo (film)\n",
      "Aryan: Unbreakable\n",
      "Chup Chup Ke\n",
      "Corporate (2006 film)\n",
      "Darna Zaroori Hai\n",
      "Deadline: Sirf 24 Ghante\n",
      "Dil Diya Hai\n",
      "Darwaaza Bandh Rakho\n",
      "Eight: The Power of Shani\n",
      "Dhoom 2\n",
      "Dor (film)\n",
      "Don (2006 Hindi film)\n",
      "Family (2006 film)\n",
      "Fanaa (2006 film)\n",
      "Gangster (2006 film)\n",
      "Golmaal: Fun Unlimited\n",
      "Devaki (2005 film)\n",
      "Fight Club – Members Only\n",
      "Dharti Kahe Pukar Ke (2006 film)\n",
      "Humko Deewana Kar Gaye\n",
      "Humko Tumse Pyaar Hai\n",
      "I See You (2006 film)\n",
      "Jaane Hoga Kya\n",
      "Jaan-E-Mann\n",
      "Jawani Diwani: A Youthful Joyride\n",
      "Holiday (2006 film)\n",
      "Iqraar by Chance\n",
      "Khosla Ka Ghosla\n",
      "Kabhi Alvida Naa Kehna\n",
      "Love Ke Chakkar Mein\n",
      "Lage Raho Munna Bhai\n",
      "Kabul Express\n",
      "Jigyaasa\n",
      "Krrish\n",
      "Malamaal Weekly\n",
      "Omkara (2006 film)\n",
      "Pyaar Ke Side Effects\n",
      "Naksha\n",
      "Phir Hera Pheri\n",
      "Pyare Mohan\n",
      "Mere Jeevan Saathi (2006 film)\n",
      "Prateeksha\n",
      "Sacred Evil – A True Story\n",
      "Rang De Basanti\n",
      "Shaadi Karke Phas Gaya Yaar\n",
      "Sandwich (2006 film)\n",
      "Shaadi Se Pehle\n",
      "Saawan... The Love Season\n",
      "Shiva (2006 film)\n",
      "Souten: The Other Woman\n",
      "Shikhar (film)\n",
      "Children of Heaven\n",
      "Tathastu\n",
      "The Killer (2006 film)\n",
      "Umrao Jaan (2006 film)\n",
      "Taxi No. 9211\n",
      "Teesri Aankh: The Hidden Camera\n",
      "Vivah\n",
      "Utthaan\n",
      "Waris Shah: Ishq Daa Waaris\n",
      "Woh Lamhe...\n",
      "Yun Hota Toh Kya Hota\n",
      "Umar (film)\n",
      "Zindaggi Rocks\n",
      "Tom Dick and Harry (2006 film)\n",
      "Aashiq Banaya Aapne\n",
      "Anjaane (2005 film)\n",
      "Apaharan\n",
      "Bachke Rehna Re Baba\n",
      "7½ Phere\n",
      "Barsaat (2005 film)\n",
      "Bewafaa (2005 film)\n",
      "Black (2005 film)\n",
      "Zinda (film)\n",
      "Bluffmaster!\n",
      "99.9 FM (film)\n",
      "Bhola in Bollywood\n",
      "Bhagmati (2005 film)\n",
      "Blackmail (2005 film)\n",
      "Bunty Aur Babli\n",
      "Chaahat – Ek Nasha\n",
      "Chetna: The Excitement\n",
      "Chand Sa Roshan Chehra\n",
      "Chocolate (2005 film)\n",
      "D (film)\n",
      "Deewane Huye Paagal\n",
      "Bullet: Ek Dhamaka\n",
      "Chehraa\n",
      "Dil Jo Bhi Kahey...\n",
      "Dosti: Friends Forever\n",
      "Classic – Dance of Love\n",
      "Dus\n",
      "Elaan (2005 film)\n",
      "Fareb (2005 film)\n",
      "Ek Ajnabee\n",
      "Fun – Can Be Dangerous Sometimes\n",
      "Ek Khiladi Ek Haseena (film)\n",
      "Double Cross (2005 film)\n",
      "Dreams (2006 film)\n",
      "Home Delivery\n",
      "Garam Masala (2005 film)\n",
      "Iqbal (film)\n",
      "Jai Chiranjeeva\n",
      "Hazaaron Khwaishein Aisi\n",
      "Insan\n",
      "Jo Bole So Nihaal (film)\n",
      "Karam (film)\n",
      "Kaal (2005 film)\n",
      "Kalyug (2005 film)\n",
      "Kasak (2005 film)\n",
      "Hanuman (2005 film)\n",
      "James (2005 film)\n",
      "Kisna: The Warrior Poet\n",
      "Koi Aap Sa\n",
      "Khamoshh... Khauff Ki Raat\n",
      "Jurm (2005 film)\n",
      "Kuchh Meetha Ho Jaye\n",
      "Kyaa Kool Hai Hum\n",
      "Lucky: No Time for Love\n",
      "Main Aisa Hi Hoon\n",
      "Kyon Ki\n",
      "Main Meri Patni Aur Woh\n",
      "Maine Gandhi Ko Nahin Mara\n",
      "Maine Pyaar Kyun Kiya?\n",
      "Mangal Pandey: The Rising\n",
      "Koi Mere Dil Mein Hai\n",
      "Mr Prime Minister\n",
      "My Brother…Nikhil\n",
      "My Wife's Murder\n",
      "Naina (2005 film)\n",
      "Neal 'n' Nikki\n",
      "No Entry\n",
      "Padmashree Laloo Prasad Yadav\n",
      "Page 3 (film)\n",
      "Morning Raga\n",
      "Parineeta (2005 film)\n",
      "Pehchaan: The Face of Truth\n",
      "Paheli\n",
      "Rog\n",
      "Pyaar Mein Twist\n",
      "Salaam Namaste\n",
      "Revati (film)\n",
      "Sarkar (2005 film)\n",
      "Sehar\n",
      "Shabd (film)\n",
      "Shabnam Mausi\n",
      "Sheesha (2005 film)\n",
      "Ramji Londonwaley\n",
      "Silsiilay\n",
      "Socha Na Tha\n",
      "Taj Mahal: An Eternal Love Story\n",
      "Tango Charlie\n",
      "The Film\n",
      "Vaada (film)\n",
      "Vaah! Life Ho Toh Aisi!\n",
      "Ssukh\n",
      "Shaadi No. 1\n",
      "Viruddh... Family Comes First\n",
      "Waqt: The Race Against Time\n",
      "Vidyaarthi\n",
      "Yakeen (2005 film)\n",
      "Zeher\n",
      "Veer-Zaara\n",
      "Main Hoon Na\n",
      "Zameer: The Fire Within\n",
      "Mujhse Shaadi Karogi\n",
      "Dhoom\n",
      "Khakee\n",
      "Hum Tum\n",
      "Hulchul (2004 film)\n",
      "Murder (2004 film)\n",
      "Yuva\n",
      "Aitraaz\n",
      "Aetbaar\n",
      "Ab Tumhare Hawale Watan Saathiyo\n",
      "Aan: Men at Work\n",
      "Bardaasht\n",
      "Chameli (film)\n",
      "Agnipankh\n",
      "Asambhav\n",
      "Charas (2004 film)\n",
      "Deewaar (2004 film)\n",
      "Dev (2004 film)\n",
      "Dil Maange More\n",
      "Dil Ne Jise Apna Kahaa\n",
      "Dobara\n",
      "Aabra Ka Daabra\n",
      "Dil Bechara Pyaar Ka Maara\n",
      "Gayab\n",
      "Fida\n",
      "Garv: Pride & Honour\n",
      "Ek Se Badhkar Ek (2004 film)\n",
      "Ek Hasina Thi (film)\n",
      "Girlfriend (2004 film)\n",
      "Hatya (2004 film)\n",
      "Hava Aney Dey\n",
      "Hawas (2004 film)\n",
      "Hyderabad Blues 2\n",
      "Julie (2004 film)\n",
      "Kaun Hai Jo Sapno Mein Aaya\n",
      "Inteqam: The Perfect Game\n",
      "Kis Kis Ki Kismat\n",
      "Insaaf: The Justice\n",
      "I Proud to Be an Indian\n",
      "Khamosh Pani\n",
      "Kismat (2004 film)\n",
      "Lakeer – Forbidden Lines\n",
      "Krishna Cottage\n",
      "Kyun! Ho Gaya Na...\n",
      "Madhoshi\n",
      "Lakshya (film)\n",
      "Ishq Hai Tumse\n",
      "Maqbool\n",
      "Masti (2004 film)\n",
      "Meenaxi: A Tale of Three Cities\n",
      "Musafir (2004 film)\n",
      "Mughal-e-Azam\n",
      "Muskaan\n",
      "Meri Biwi Ka Jawaab Nahin\n",
      "Naach (2004 film)\n",
      "Netaji Subhas Chandra Bose: The Forgotten Hero\n",
      "Paap\n",
      "Phir Milenge\n",
      "Plan (film)\n",
      "Police Force: An Inside Story\n",
      "Paisa Vasool\n",
      "Popcorn Khao! Mast Ho Jao\n",
      "Rakht\n",
      "Raincoat (film)\n",
      "Rudraksh (film)\n",
      "Shaadi Ka Laddoo\n",
      "Run (2004 film)\n",
      "Rok Sako To Rok Lo\n",
      "Suno Sasurjee\n",
      "Swades\n",
      "Taarzan: The Wonder Car\n",
      "Nothing but Life\n",
      "Shart: The Challenge\n",
      "Tumsa Nahin Dekha: A Love Story\n",
      "Vaastu Shastra (film)\n",
      "Yeh Lamhe Judaai Ke\n",
      "Sheen (film)\n",
      "Dude Where's the Party?\n",
      "Thoda Tum Badlo Thoda Hum\n",
      "Koi... Mil Gaya\n",
      "Kal Ho Naa Ho\n",
      "Shukriya: Till Death Do Us Apart\n",
      "Chalte Chalte (2003 film)\n",
      "The Hero: Love Story of a Spy\n",
      "Baghban (2003 film)\n",
      "Main Prem Ki Diwani Hoon\n",
      "LOC Kargil\n",
      "Border (1997 film)\n",
      "Munna Bhai M.B.B.S.\n",
      "Qayamat: City Under Threat\n",
      "88 Antop Hill\n",
      "3 Deewarein\n",
      "Aanch\n",
      "Aapko Pehle Bhi Kahin Dekha Hai\n",
      "Bhoot (film)\n",
      "Boom (film)\n",
      "Aaj Ka Andha Kanoon\n",
      "Andaaz\n",
      "Andaaz\n",
      "Armaan (2003 film)\n",
      "Chori Chori (2003 film)\n",
      "Calcutta Mail\n",
      "Baaz: A Bird in Danger\n",
      "Basti (film)\n",
      "Magic Magic 3D\n",
      "Dil Ka Rishta\n",
      "Darna Mana Hai\n",
      "Dhoop\n",
      "Dhund (2003 film)\n",
      "Chura Liyaa Hai Tumne\n",
      "The Bypass\n",
      "Dum (2003 Hindi film)\n",
      "Dil Pardesi Ho Gayaa\n",
      "Ek Alag Mausam\n",
      "Footpath (2003 film)\n",
      "Escape from Taliban\n",
      "Ek Din 24 Ghante\n",
      "Gangaajal\n",
      "Hawa (film)\n",
      "Haasil\n",
      "Ek Aur Ek Gyarah\n",
      "Hungama (2003 film)\n",
      "Green Card Fever\n",
      "Flavors (film)\n",
      "Indian Babu\n",
      "Fun2shh... Dudes in the 10th Century\n",
      "Inteha (2003 film)\n",
      "Jaal: The Trap\n",
      "Ishq Vishk\n",
      "Hawayein\n",
      "Jajantaram Mamantaram\n",
      "Jism (2003 film)\n",
      "Jhankaar Beats\n",
      "Kagaar: Life on the Edge\n",
      "Kash Aap Hamare Hote\n",
      "Khel – No Ordinary Game\n",
      "Janasheen\n",
      "Kaise Kahoon Ke... Pyaar Hai\n",
      "Khushi (2003 Hindi film)\n",
      "Khwahish\n",
      "Kucch To Hai\n",
      "Kuch Naa Kaho\n",
      "Main Madhuri Dixit Banna Chahti Hoon\n",
      "Joggers' Park (film)\n",
      "Market (2003 film)\n",
      "Om (2003 film)\n",
      "Out of Control (2003 film)\n",
      "Mumbai Matinee\n",
      "Matrubhoomi\n",
      "Parwana (2003 film)\n",
      "Pinjar (film)\n",
      "Mumbai Se Aaya Mera Dost\n",
      "Saaya (2003 film)\n",
      "Samay: When Time Strikes\n",
      "Nayee Padosan\n",
      "Satta (film)\n",
      "Sssshhh...\n",
      "Praan Jaye Par Shaan Na Jaye\n",
      "Raghu Romeo\n",
      "Stumped (film)\n",
      "Rules: Pyaar Ka Superhit Formula\n",
      "Right Here Right Now (film)\n",
      "Raja Bhaiya (film)\n",
      "Tere Naam\n",
      "Tujhe Meri Kasam\n",
      "Talaash: The Hunt Begins...\n",
      "Tehzeeb (2003 film)\n",
      "The Pink Mirror\n",
      "Yeh Dil\n",
      "Xcuse Me\n",
      "Raaz (2002 film)\n",
      "Zameen (2003 film)\n",
      "Waisa Bhi Hota Hai Part II\n",
      "Devdas (2002 Hindi film)\n",
      "Kaante\n",
      "Hum Tumhare Hain Sanam\n",
      "Aankhen (2002 film)\n",
      "Saathiya (film)\n",
      "Company (film)\n",
      "Awara Paagal Deewana\n"
     ]
    }
   ],
   "source": [
    "# looping\n",
    "for i in movies.index:\n",
    "  print(i)"
   ]
  },
  {
   "cell_type": "code",
   "execution_count": 60,
   "metadata": {},
   "outputs": [
    {
     "data": {
      "text/plain": [
       "maths      167\n",
       "english    200\n",
       "science    189\n",
       "hindi      200\n",
       "evs        200\n",
       "Name: Shubhasheesh Marks, dtype: int64"
      ]
     },
     "execution_count": 60,
     "metadata": {},
     "output_type": "execute_result"
    }
   ],
   "source": [
    "# Arithmetic Operators(Broadcasting)\n",
    "100 + marks_series"
   ]
  },
  {
   "cell_type": "code",
   "execution_count": 61,
   "metadata": {},
   "outputs": [
    {
     "data": {
      "text/plain": [
       "match_no\n",
       "1      False\n",
       "2      False\n",
       "3      False\n",
       "4      False\n",
       "5      False\n",
       "       ...  \n",
       "211    False\n",
       "212    False\n",
       "213     True\n",
       "214    False\n",
       "215    False\n",
       "Name: runs, Length: 215, dtype: bool"
      ]
     },
     "execution_count": 61,
     "metadata": {},
     "output_type": "execute_result"
    }
   ],
   "source": [
    "# Relational Operators\n",
    "\n",
    "vk >= 50"
   ]
  },
  {
   "cell_type": "markdown",
   "metadata": {},
   "source": [
    "#### Boolean Indexing on Series"
   ]
  },
  {
   "cell_type": "code",
   "execution_count": 62,
   "metadata": {},
   "outputs": [
    {
     "data": {
      "text/plain": [
       "50"
      ]
     },
     "execution_count": 62,
     "metadata": {},
     "output_type": "execute_result"
    }
   ],
   "source": [
    "# Find no of 50's and 100's scored by kohli\n",
    "vk[vk >= 50].size"
   ]
  },
  {
   "cell_type": "code",
   "execution_count": 63,
   "metadata": {},
   "outputs": [
    {
     "data": {
      "text/plain": [
       "9"
      ]
     },
     "execution_count": 63,
     "metadata": {},
     "output_type": "execute_result"
    }
   ],
   "source": [
    "# find number of ducks\n",
    "vk[vk == 0].size"
   ]
  },
  {
   "cell_type": "code",
   "execution_count": 64,
   "metadata": {},
   "outputs": [
    {
     "data": {
      "text/plain": [
       "59"
      ]
     },
     "execution_count": 64,
     "metadata": {},
     "output_type": "execute_result"
    }
   ],
   "source": [
    "# Count number of day when I had more than 200 subs a day\n",
    "subs[subs > 200].size"
   ]
  },
  {
   "cell_type": "code",
   "execution_count": 65,
   "metadata": {},
   "outputs": [
    {
     "data": {
      "text/plain": [
       "lead\n",
       "Akshay Kumar        48\n",
       "Amitabh Bachchan    45\n",
       "Ajay Devgn          38\n",
       "Salman Khan         31\n",
       "Sanjay Dutt         26\n",
       "Shah Rukh Khan      22\n",
       "Name: count, dtype: int64"
      ]
     },
     "execution_count": 65,
     "metadata": {},
     "output_type": "execute_result"
    }
   ],
   "source": [
    "# find actors who have done more than 20 movies\n",
    "num_movies = movies.value_counts()\n",
    "num_movies[num_movies > 20]"
   ]
  },
  {
   "cell_type": "markdown",
   "metadata": {},
   "source": [
    "#### Plotting Graphs on Series"
   ]
  },
  {
   "cell_type": "code",
   "execution_count": 66,
   "metadata": {},
   "outputs": [
    {
     "data": {
      "text/plain": [
       "<Axes: >"
      ]
     },
     "execution_count": 66,
     "metadata": {},
     "output_type": "execute_result"
    },
    {
     "data": {
      "image/png": "[encoded data removed]",
      "text/plain": [
       "<Figure size 640x480 with 1 Axes>"
      ]
     },
     "metadata": {},
     "output_type": "display_data"
    }
   ],
   "source": [
    "subs.plot()"
   ]
  },
  {
   "cell_type": "code",
   "execution_count": 69,
   "metadata": {},
   "outputs": [
    {
     "data": {
      "text/plain": [
       "<Axes: xlabel='lead'>"
      ]
     },
     "execution_count": 69,
     "metadata": {},
     "output_type": "execute_result"
    },
    {
     "data": {
      "image/png": "[encoded data removed]",
      "text/plain": [
       "<Figure size 640x480 with 1 Axes>"
      ]
     },
     "metadata": {},
     "output_type": "display_data"
    }
   ],
   "source": [
    "movies.value_counts().head(20).plot(kind='bar')"
   ]
  },
  {
   "cell_type": "code",
   "execution_count": 70,
   "metadata": {},
   "outputs": [
    {
     "data": {
      "text/plain": [
       "<Axes: ylabel='count'>"
      ]
     },
     "execution_count": 70,
     "metadata": {},
     "output_type": "execute_result"
    },
    {
     "data": {
      "image/png": "[encoded data removed]",
      "text/plain": [
       "<Figure size 640x480 with 1 Axes>"
      ]
     },
     "metadata": {},
     "output_type": "display_data"
    }
   ],
   "source": [
    "movies.value_counts().head(20).plot(kind='pie')"
   ]
  },
  {
   "cell_type": "markdown",
   "metadata": {},
   "source": [
    "#### Some Important Series Methods"
   ]
  },
  {
   "cell_type": "code",
   "execution_count": null,
   "metadata": {},
   "outputs": [],
   "source": [
    "# astype\n",
    "# between\n",
    "# clip\n",
    "# drop_duplicates\n",
    "# isnull\n",
    "# dropna\n",
    "# fillna\n",
    "# isin\n",
    "# apply\n",
    "# copy"
   ]
  },
  {
   "cell_type": "code",
   "execution_count": 74,
   "metadata": {},
   "outputs": [
    {
     "name": "stdout",
     "output_type": "stream",
     "text": [
      "0    1\n",
      "1    2\n",
      "2    3\n",
      "dtype: Int64\n",
      "Int64\n"
     ]
    }
   ],
   "source": [
    "# astype - This can be useful when you need to change the type of your data, such as converting a column of strings to integers or floats\n",
    "# Example Series\n",
    "s = pd.Series(['1', '2', '3'])\n",
    "\n",
    "# Convert Series to integer\n",
    "s = s.astype('Int64')\n",
    "\n",
    "print(s)\n",
    "print(s.dtypes)"
   ]
  },
  {
   "cell_type": "code",
   "execution_count": 76,
   "metadata": {},
   "outputs": [
    {
     "data": {
      "text/plain": [
       "43"
      ]
     },
     "execution_count": 76,
     "metadata": {},
     "output_type": "execute_result"
    }
   ],
   "source": [
    "# between\n",
    "\n",
    "vk[vk.between(51,99)].size"
   ]
  },
  {
   "cell_type": "code",
   "execution_count": 77,
   "metadata": {},
   "outputs": [
    {
     "data": {
      "text/plain": [
       "0       48\n",
       "1       57\n",
       "2       40\n",
       "3       43\n",
       "4       44\n",
       "      ... \n",
       "360    231\n",
       "361    226\n",
       "362    155\n",
       "363    144\n",
       "364    172\n",
       "Name: Subscribers gained, Length: 365, dtype: int64"
      ]
     },
     "execution_count": 77,
     "metadata": {},
     "output_type": "execute_result"
    }
   ],
   "source": [
    "# clip - This means that any value in the DataFrame or Series that is below the lower threshold is replaced by the \n",
    "# lower threshold, and any value above the upper threshold is replaced by the upper threshold.\n",
    "subs"
   ]
  },
  {
   "cell_type": "code",
   "execution_count": 78,
   "metadata": {},
   "outputs": [
    {
     "data": {
      "text/plain": [
       "0      100\n",
       "1      100\n",
       "2      100\n",
       "3      100\n",
       "4      100\n",
       "      ... \n",
       "360    200\n",
       "361    200\n",
       "362    155\n",
       "363    144\n",
       "364    172\n",
       "Name: Subscribers gained, Length: 365, dtype: int64"
      ]
     },
     "execution_count": 78,
     "metadata": {},
     "output_type": "execute_result"
    }
   ],
   "source": [
    "subs.clip(100,200)"
   ]
  },
  {
   "cell_type": "code",
   "execution_count": 79,
   "metadata": {},
   "outputs": [
    {
     "data": {
      "text/plain": [
       "0    1\n",
       "1    1\n",
       "2    2\n",
       "3    2\n",
       "4    3\n",
       "5    3\n",
       "6    4\n",
       "7    4\n",
       "dtype: int64"
      ]
     },
     "execution_count": 79,
     "metadata": {},
     "output_type": "execute_result"
    }
   ],
   "source": [
    "# drop_duplicates\n",
    "temp = pd.Series([1,1,2,2,3,3,4,4])\n",
    "temp"
   ]
  },
  {
   "cell_type": "code",
   "execution_count": 80,
   "metadata": {},
   "outputs": [
    {
     "data": {
      "text/plain": [
       "0    1\n",
       "2    2\n",
       "4    3\n",
       "6    4\n",
       "dtype: int64"
      ]
     },
     "execution_count": 80,
     "metadata": {},
     "output_type": "execute_result"
    }
   ],
   "source": [
    "temp.drop_duplicates()"
   ]
  },
  {
   "cell_type": "code",
   "execution_count": 81,
   "metadata": {},
   "outputs": [
    {
     "data": {
      "text/plain": [
       "4"
      ]
     },
     "execution_count": 81,
     "metadata": {},
     "output_type": "execute_result"
    }
   ],
   "source": [
    "temp.duplicated().sum()"
   ]
  },
  {
   "cell_type": "code",
   "execution_count": 82,
   "metadata": {},
   "outputs": [
    {
     "data": {
      "text/plain": [
       "137"
      ]
     },
     "execution_count": 82,
     "metadata": {},
     "output_type": "execute_result"
    }
   ],
   "source": [
    "vk.duplicated().sum()"
   ]
  },
  {
   "cell_type": "code",
   "execution_count": 83,
   "metadata": {},
   "outputs": [
    {
     "data": {
      "text/plain": [
       "movie\n",
       "Uri: The Surgical Strike                   Vicky Kaushal\n",
       "Battalion 609                                Vicky Ahuja\n",
       "The Accidental Prime Minister (film)         Anupam Kher\n",
       "Why Cheat India                               Alia Bhatt\n",
       "Evening Shadows                         Mona Ambegaonkar\n",
       "                                              ...       \n",
       "Sssshhh...                              Tanishaa Mukerji\n",
       "Rules: Pyaar Ka Superhit Formula                  Tanuja\n",
       "Right Here Right Now (film)                        Ankit\n",
       "Talaash: The Hunt Begins...                Rakhee Gulzar\n",
       "The Pink Mirror                          Edwin Fernandes\n",
       "Name: lead, Length: 566, dtype: object"
      ]
     },
     "execution_count": 83,
     "metadata": {},
     "output_type": "execute_result"
    }
   ],
   "source": [
    "movies.drop_duplicates()"
   ]
  },
  {
   "cell_type": "code",
   "execution_count": 86,
   "metadata": {},
   "outputs": [
    {
     "name": "stdout",
     "output_type": "stream",
     "text": [
      "10\n",
      "7\n"
     ]
    }
   ],
   "source": [
    "temp = pd.Series([1,2,3,np.nan,5,6,np.nan,8,np.nan,10])\n",
    "print(temp.size)\n",
    "print(temp.count())"
   ]
  },
  {
   "cell_type": "code",
   "execution_count": 87,
   "metadata": {},
   "outputs": [
    {
     "data": {
      "text/plain": [
       "3"
      ]
     },
     "execution_count": 87,
     "metadata": {},
     "output_type": "execute_result"
    }
   ],
   "source": [
    "# isnull\n",
    "temp.isnull().sum()"
   ]
  },
  {
   "cell_type": "code",
   "execution_count": 88,
   "metadata": {},
   "outputs": [
    {
     "data": {
      "text/plain": [
       "0     1.0\n",
       "1     2.0\n",
       "2     3.0\n",
       "3     NaN\n",
       "4     5.0\n",
       "5     6.0\n",
       "6     NaN\n",
       "7     8.0\n",
       "8     NaN\n",
       "9    10.0\n",
       "dtype: float64"
      ]
     },
     "execution_count": 88,
     "metadata": {},
     "output_type": "execute_result"
    }
   ],
   "source": [
    "temp"
   ]
  },
  {
   "cell_type": "code",
   "execution_count": 89,
   "metadata": {},
   "outputs": [
    {
     "data": {
      "text/plain": [
       "0     1.0\n",
       "1     2.0\n",
       "2     3.0\n",
       "4     5.0\n",
       "5     6.0\n",
       "7     8.0\n",
       "9    10.0\n",
       "dtype: float64"
      ]
     },
     "execution_count": 89,
     "metadata": {},
     "output_type": "execute_result"
    }
   ],
   "source": [
    "# dropna method is used to remove missing values\n",
    "\n",
    "temp.dropna()"
   ]
  },
  {
   "cell_type": "code",
   "execution_count": 90,
   "metadata": {},
   "outputs": [
    {
     "data": {
      "text/plain": [
       "0     1.0\n",
       "1     2.0\n",
       "2     3.0\n",
       "3    10.0\n",
       "4     5.0\n",
       "5     6.0\n",
       "6    10.0\n",
       "7     8.0\n",
       "8    10.0\n",
       "9    10.0\n",
       "dtype: float64"
      ]
     },
     "execution_count": 90,
     "metadata": {},
     "output_type": "execute_result"
    }
   ],
   "source": [
    "#  fillna method is used to fill missing values\n",
    "temp.fillna(10)"
   ]
  },
  {
   "cell_type": "code",
   "execution_count": 91,
   "metadata": {},
   "outputs": [
    {
     "data": {
      "text/plain": [
       "match_no\n",
       "82    99\n",
       "86    49\n",
       "Name: runs, dtype: int64"
      ]
     },
     "execution_count": 91,
     "metadata": {},
     "output_type": "execute_result"
    }
   ],
   "source": [
    "# isin\n",
    "vk[(vk == 49) | (vk == 99)]"
   ]
  },
  {
   "cell_type": "code",
   "execution_count": 92,
   "metadata": {},
   "outputs": [
    {
     "name": "stdout",
     "output_type": "stream",
     "text": [
      "0     1\n",
      "1     4\n",
      "2     9\n",
      "3    16\n",
      "4    25\n",
      "dtype: int64\n"
     ]
    }
   ],
   "source": [
    "# apply - The apply method in pandas allows you to apply a function to each element of a Series. \n",
    "\n",
    "# Example Series\n",
    "s = pd.Series([1, 2, 3, 4, 5])\n",
    "\n",
    "# Apply a lambda function to square each element\n",
    "s_squared = s.apply(lambda x: x ** 2)\n",
    "\n",
    "print(s_squared)\n"
   ]
  },
  {
   "cell_type": "code",
   "execution_count": 93,
   "metadata": {},
   "outputs": [
    {
     "name": "stdout",
     "output_type": "stream",
     "text": [
      "Original Series:\n",
      "0    1\n",
      "1    2\n",
      "2    3\n",
      "3    4\n",
      "4    5\n",
      "dtype: int64\n",
      "\n",
      "Copied Series:\n",
      "0    100\n",
      "1      2\n",
      "2      3\n",
      "3      4\n",
      "4      5\n",
      "dtype: int64\n"
     ]
    }
   ],
   "source": [
    "# copy method creates a deep copy of the Series.\n",
    "\n",
    "# Example Series\n",
    "s = pd.Series([1, 2, 3, 4, 5])\n",
    "\n",
    "# Create a copy of the Series\n",
    "s_copy = s.copy()\n",
    "\n",
    "# Modify the copy\n",
    "s_copy[0] = 100\n",
    "\n",
    "print(\"Original Series:\")\n",
    "print(s)\n",
    "print(\"\\nCopied Series:\")\n",
    "print(s_copy)\n"
   ]
  }
 ],
 "metadata": {
  "kernelspec": {
   "display_name": "Python 3",
   "language": "python",
   "name": "python3"
  },
  "language_info": {
   "codemirror_mode": {
    "name": "ipython",
    "version": 3
   },
   "file_extension": ".py",
   "mimetype": "text/x-python",
   "name": "python",
   "nbconvert_exporter": "python",
   "pygments_lexer": "ipython3",
   "version": "3.12.0"
  }
 },
 "nbformat": 4,
 "nbformat_minor": 2
}
